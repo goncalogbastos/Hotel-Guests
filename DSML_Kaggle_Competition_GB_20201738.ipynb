{
 "cells": [
  {
   "cell_type": "markdown",
   "metadata": {},
   "source": [
    "<img src=\"logo.png\" width=\"200\" height=\"150\" style=\"float: left;\" />"
   ]
  },
  {
   "cell_type": "markdown",
   "metadata": {},
   "source": [
    "### Data Science and Machine Learning - Kaggle Competition\n",
    "\n",
    "### Gonçalo Bastos - 20201738\n",
    "\n",
    "#### June 2021"
   ]
  },
  {
   "cell_type": "markdown",
   "metadata": {},
   "source": [
    "* [1. Introduction](#intro)\n",
    "* [2. Exploratory Analysis](#explo)\n",
    "* [3. Data Cleaning & Tranformation](#dc)\n",
    "* [4. Model Evaluation](#me)\n",
    "    * [4.1. Entire Model](#all)\n",
    "    * [4.2. Feature Selection](#fs)\n",
    "* [5. Modelling](#model)"
   ]
  },
  {
   "cell_type": "markdown",
   "metadata": {},
   "source": [
    "<hr>\n",
    "<a class=\"anchor\" id=\"intro\">\n",
    "\n",
    "## 1. Introduction\n",
    "    \n",
    "</a>"
   ]
  },
  {
   "cell_type": "markdown",
   "metadata": {},
   "source": [
    "### Be my guest\n",
    "#### Which guests are more likely to return?"
   ]
  },
  {
   "cell_type": "markdown",
   "metadata": {},
   "source": [
    "The hotel chain IMSInn, like many other hotels, has been keeping score of all the customer satisfaction surveys their guest kindly fill out and leave in their room after their stay. However, until know they were only used to obtain an overall satisfaction score.\n",
    "\n",
    "Recent developments of the global pandemic have caused business to slow down and the marketing department is working like crazy to figure a strategy to keep the impacts at a minimum. The idea is to target customers with a high probability of returning and give them discounts if they make a booking for next year, helping to contain marketing costs while guarantying some cash inflow.\n",
    "\n",
    "The main goal of this analysis is to build a predictive model that answers the question “Which guests are more likely to return?” using the small quantity of data accessible from the guest data base that contains general information about the guests and their satisfaction survey responses.\n",
    "\n",
    "The data contains the following features:"
   ]
  },
  {
   "cell_type": "markdown",
   "metadata": {},
   "source": [
    "- Guest_ID - Unique identifier of the guest\n",
    "- Name - The name of the guest\n",
    "- Frequent_Traveler - Binary variable indicating if the guest is a frequent flier or not\n",
    "- Date_Birth - Guest date of birth\n",
    "- Type - Reason for travelling\n",
    "- Flight_Class - Class of flight took to get to the hotel\n",
    "- Points - Points from travel club membership\n",
    "- Room - Evaluation of the room (0 to 5)\n",
    "- Check-in/Check-out - Evaluation of the check-in/check-out process (0 to 5)\n",
    "- F&B - Evaluation of the food and beverages (0 to 5)\n",
    "- Location - Evaluation of the hotel location (0 to 5)\n",
    "- Wifi - Evaluation of the hotel wifi (0 to 5)\n",
    "- Entertainment - Evaluation of the entertainment offer (0 to 5)\n",
    "- Gym - Evaluation of the gym (0 to 5)\n",
    "- Spa - Evaluation of the spa (0 to 5)\n",
    "- Staff - Evaluation of the staff (0 to 5)\n",
    "- Pool - Evaluation of the pool (0 to 5)\n",
    "- Baggage_Handling - Evaluation of the baggage handling process (0 to 5)\n",
    "- Reception - Evaluation of the reception (0 to 5)\n",
    "- Cleanliness - Evaluation of the cleanliness (0 to 5)\n",
    "- Online_Booking - Evaluation of the online booking process (0 to 5)\n",
    "- Deposit_Kept - Amount withdrawn from the credit card of the guest to cover damages\n",
    "- Time_Room_Service - Average time (minutes) the guest waited to receive room service\n",
    "- Repeater - Binary variable signaling if the customer returned or not (up until a year after the first visit)"
   ]
  },
  {
   "cell_type": "markdown",
   "metadata": {},
   "source": [
    "Importing needed libraries."
   ]
  },
  {
   "cell_type": "code",
   "execution_count": 1,
   "metadata": {},
   "outputs": [],
   "source": [
    "import pandas as pd\n",
    "import numpy as np\n",
    "import os\n",
    "import math\n",
    "import seaborn as sns\n",
    "import matplotlib.pyplot as plt\n",
    "import statsmodels.api as sm\n",
    "import time\n",
    "\n",
    "from sklearn.preprocessing import MinMaxScaler\n",
    "from sklearn.metrics import f1_score\n",
    "from sklearn.naive_bayes import GaussianNB\n",
    "from sklearn.tree import DecisionTreeClassifier\n",
    "from sklearn.svm import SVC,LinearSVC\n",
    "from sklearn.neural_network import MLPClassifier\n",
    "from sklearn.neighbors import KNeighborsClassifier\n",
    "from sklearn.linear_model import Perceptron\n",
    "from sklearn.linear_model import SGDClassifier\n",
    "from sklearn.linear_model import LogisticRegression\n",
    "from sklearn.feature_selection import RFE\n",
    "from sklearn.model_selection import GridSearchCV\n",
    "from sklearn.model_selection import train_test_split\n",
    "from sklearn.model_selection import KFold\n",
    "from sklearn.ensemble import AdaBoostClassifier\n",
    "from sklearn.ensemble import GradientBoostingClassifier\n",
    "from sklearn.ensemble import RandomForestClassifier\n",
    "\n",
    "import warnings\n",
    "warnings.filterwarnings(\"ignore\")"
   ]
  },
  {
   "cell_type": "markdown",
   "metadata": {},
   "source": [
    "Importing train, test and Sample_Submission csv files:"
   ]
  },
  {
   "cell_type": "code",
   "execution_count": 2,
   "metadata": {},
   "outputs": [],
   "source": [
    "pwd = os.getcwd()\n",
    "train = pd.read_csv(pwd + '\\Data\\\\train.csv')\n",
    "test = pd.read_csv(pwd + '\\Data\\\\test.csv')\n",
    "sample_sub = pd.read_csv(pwd + '\\Data\\\\Sample_Submission.csv')"
   ]
  },
  {
   "cell_type": "markdown",
   "metadata": {},
   "source": [
    "Inspecting dataframes:"
   ]
  },
  {
   "cell_type": "code",
   "execution_count": 3,
   "metadata": {
    "scrolled": false
   },
   "outputs": [
    {
     "data": {
      "text/html": [
       "<div>\n",
       "<style scoped>\n",
       "    .dataframe tbody tr th:only-of-type {\n",
       "        vertical-align: middle;\n",
       "    }\n",
       "\n",
       "    .dataframe tbody tr th {\n",
       "        vertical-align: top;\n",
       "    }\n",
       "\n",
       "    .dataframe thead th {\n",
       "        text-align: right;\n",
       "    }\n",
       "</style>\n",
       "<table border=\"1\" class=\"dataframe\">\n",
       "  <thead>\n",
       "    <tr style=\"text-align: right;\">\n",
       "      <th></th>\n",
       "      <th>Guest_ID</th>\n",
       "      <th>Name</th>\n",
       "      <th>Frequent_Traveler</th>\n",
       "      <th>Date_Birth</th>\n",
       "      <th>Type</th>\n",
       "      <th>Flight_Class</th>\n",
       "      <th>Points</th>\n",
       "      <th>Room</th>\n",
       "      <th>Check-in/Check-out</th>\n",
       "      <th>F&amp;B</th>\n",
       "      <th>...</th>\n",
       "      <th>Spa</th>\n",
       "      <th>Staff</th>\n",
       "      <th>Pool</th>\n",
       "      <th>Baggage_Handling</th>\n",
       "      <th>Reception</th>\n",
       "      <th>Cleanliness</th>\n",
       "      <th>Online_Booking</th>\n",
       "      <th>Deposit_Kept</th>\n",
       "      <th>Time_Room_Service</th>\n",
       "      <th>Repeater</th>\n",
       "    </tr>\n",
       "  </thead>\n",
       "  <tbody>\n",
       "    <tr>\n",
       "      <th>0</th>\n",
       "      <td>19346</td>\n",
       "      <td>Mr. James Bond</td>\n",
       "      <td>1</td>\n",
       "      <td>July 1, 1991</td>\n",
       "      <td>Business travel</td>\n",
       "      <td>Eco</td>\n",
       "      <td>2695</td>\n",
       "      <td>3</td>\n",
       "      <td>5</td>\n",
       "      <td>5</td>\n",
       "      <td>...</td>\n",
       "      <td>4</td>\n",
       "      <td>2</td>\n",
       "      <td>3</td>\n",
       "      <td>3</td>\n",
       "      <td>3</td>\n",
       "      <td>3</td>\n",
       "      <td>3</td>\n",
       "      <td>187</td>\n",
       "      <td>20.2</td>\n",
       "      <td>0</td>\n",
       "    </tr>\n",
       "    <tr>\n",
       "      <th>1</th>\n",
       "      <td>21830</td>\n",
       "      <td>Mr. Christian Newman</td>\n",
       "      <td>1</td>\n",
       "      <td>January 25, 1964</td>\n",
       "      <td>Personal Travel</td>\n",
       "      <td>Eco</td>\n",
       "      <td>2057</td>\n",
       "      <td>2</td>\n",
       "      <td>1</td>\n",
       "      <td>2</td>\n",
       "      <td>...</td>\n",
       "      <td>3</td>\n",
       "      <td>2</td>\n",
       "      <td>5</td>\n",
       "      <td>3</td>\n",
       "      <td>4</td>\n",
       "      <td>3</td>\n",
       "      <td>3</td>\n",
       "      <td>0</td>\n",
       "      <td>1.2</td>\n",
       "      <td>0</td>\n",
       "    </tr>\n",
       "    <tr>\n",
       "      <th>2</th>\n",
       "      <td>17626</td>\n",
       "      <td>Miss Megan Welch</td>\n",
       "      <td>1</td>\n",
       "      <td>May 10, 2005</td>\n",
       "      <td>Personal Travel</td>\n",
       "      <td>Eco</td>\n",
       "      <td>1478</td>\n",
       "      <td>2</td>\n",
       "      <td>2</td>\n",
       "      <td>2</td>\n",
       "      <td>...</td>\n",
       "      <td>4</td>\n",
       "      <td>4</td>\n",
       "      <td>4</td>\n",
       "      <td>4</td>\n",
       "      <td>3</td>\n",
       "      <td>4</td>\n",
       "      <td>5</td>\n",
       "      <td>0</td>\n",
       "      <td>0.0</td>\n",
       "      <td>1</td>\n",
       "    </tr>\n",
       "    <tr>\n",
       "      <th>3</th>\n",
       "      <td>17988</td>\n",
       "      <td>Miss Carol Gibson</td>\n",
       "      <td>1</td>\n",
       "      <td>March 25, 1973</td>\n",
       "      <td>Business travel</td>\n",
       "      <td>Business</td>\n",
       "      <td>2304</td>\n",
       "      <td>3</td>\n",
       "      <td>1</td>\n",
       "      <td>1</td>\n",
       "      <td>...</td>\n",
       "      <td>1</td>\n",
       "      <td>2</td>\n",
       "      <td>4</td>\n",
       "      <td>4</td>\n",
       "      <td>3</td>\n",
       "      <td>2</td>\n",
       "      <td>3</td>\n",
       "      <td>147</td>\n",
       "      <td>15.0</td>\n",
       "      <td>0</td>\n",
       "    </tr>\n",
       "    <tr>\n",
       "      <th>4</th>\n",
       "      <td>16703</td>\n",
       "      <td>Mrs. Jessica Tucker</td>\n",
       "      <td>1</td>\n",
       "      <td>May 29, 1969</td>\n",
       "      <td>Business travel</td>\n",
       "      <td>Eco</td>\n",
       "      <td>73</td>\n",
       "      <td>3</td>\n",
       "      <td>3</td>\n",
       "      <td>3</td>\n",
       "      <td>...</td>\n",
       "      <td>3</td>\n",
       "      <td>3</td>\n",
       "      <td>3</td>\n",
       "      <td>3</td>\n",
       "      <td>4</td>\n",
       "      <td>3</td>\n",
       "      <td>3</td>\n",
       "      <td>6</td>\n",
       "      <td>1.0</td>\n",
       "      <td>1</td>\n",
       "    </tr>\n",
       "  </tbody>\n",
       "</table>\n",
       "<p>5 rows × 24 columns</p>\n",
       "</div>"
      ],
      "text/plain": [
       "   Guest_ID                  Name  Frequent_Traveler         Date_Birth  \\\n",
       "0     19346        Mr. James Bond                  1       July 1, 1991   \n",
       "1     21830  Mr. Christian Newman                  1   January 25, 1964   \n",
       "2     17626      Miss Megan Welch                  1       May 10, 2005   \n",
       "3     17988     Miss Carol Gibson                  1     March 25, 1973   \n",
       "4     16703   Mrs. Jessica Tucker                  1       May 29, 1969   \n",
       "\n",
       "              Type Flight_Class  Points  Room  Check-in/Check-out  F&B  ...  \\\n",
       "0  Business travel          Eco    2695     3                   5    5  ...   \n",
       "1  Personal Travel          Eco    2057     2                   1    2  ...   \n",
       "2  Personal Travel          Eco    1478     2                   2    2  ...   \n",
       "3  Business travel     Business    2304     3                   1    1  ...   \n",
       "4  Business travel          Eco      73     3                   3    3  ...   \n",
       "\n",
       "   Spa  Staff  Pool  Baggage_Handling  Reception  Cleanliness  Online_Booking  \\\n",
       "0    4      2     3                 3          3            3               3   \n",
       "1    3      2     5                 3          4            3               3   \n",
       "2    4      4     4                 4          3            4               5   \n",
       "3    1      2     4                 4          3            2               3   \n",
       "4    3      3     3                 3          4            3               3   \n",
       "\n",
       "   Deposit_Kept  Time_Room_Service  Repeater  \n",
       "0           187               20.2         0  \n",
       "1             0                1.2         0  \n",
       "2             0                0.0         1  \n",
       "3           147               15.0         0  \n",
       "4             6                1.0         1  \n",
       "\n",
       "[5 rows x 24 columns]"
      ]
     },
     "execution_count": 3,
     "metadata": {},
     "output_type": "execute_result"
    }
   ],
   "source": [
    "train.head()"
   ]
  },
  {
   "cell_type": "code",
   "execution_count": 4,
   "metadata": {
    "scrolled": true
   },
   "outputs": [
    {
     "data": {
      "text/html": [
       "<div>\n",
       "<style scoped>\n",
       "    .dataframe tbody tr th:only-of-type {\n",
       "        vertical-align: middle;\n",
       "    }\n",
       "\n",
       "    .dataframe tbody tr th {\n",
       "        vertical-align: top;\n",
       "    }\n",
       "\n",
       "    .dataframe thead th {\n",
       "        text-align: right;\n",
       "    }\n",
       "</style>\n",
       "<table border=\"1\" class=\"dataframe\">\n",
       "  <thead>\n",
       "    <tr style=\"text-align: right;\">\n",
       "      <th></th>\n",
       "      <th>Guest_ID</th>\n",
       "      <th>Name</th>\n",
       "      <th>Frequent_Traveler</th>\n",
       "      <th>Date_Birth</th>\n",
       "      <th>Type</th>\n",
       "      <th>Flight_Class</th>\n",
       "      <th>Points</th>\n",
       "      <th>Room</th>\n",
       "      <th>Check-in/Check-out</th>\n",
       "      <th>F&amp;B</th>\n",
       "      <th>...</th>\n",
       "      <th>Gym</th>\n",
       "      <th>Spa</th>\n",
       "      <th>Staff</th>\n",
       "      <th>Pool</th>\n",
       "      <th>Baggage_Handling</th>\n",
       "      <th>Reception</th>\n",
       "      <th>Cleanliness</th>\n",
       "      <th>Online_Booking</th>\n",
       "      <th>Deposit_Kept</th>\n",
       "      <th>Time_Room_Service</th>\n",
       "    </tr>\n",
       "  </thead>\n",
       "  <tbody>\n",
       "    <tr>\n",
       "      <th>0</th>\n",
       "      <td>19847</td>\n",
       "      <td>Mrs. Virginia Mackenzie</td>\n",
       "      <td>0</td>\n",
       "      <td>October 7, 1983</td>\n",
       "      <td>Business travel</td>\n",
       "      <td>Eco</td>\n",
       "      <td>2097</td>\n",
       "      <td>3</td>\n",
       "      <td>3</td>\n",
       "      <td>3</td>\n",
       "      <td>...</td>\n",
       "      <td>1</td>\n",
       "      <td>1</td>\n",
       "      <td>1</td>\n",
       "      <td>3</td>\n",
       "      <td>3</td>\n",
       "      <td>1</td>\n",
       "      <td>4</td>\n",
       "      <td>1</td>\n",
       "      <td>112</td>\n",
       "      <td>13.5</td>\n",
       "    </tr>\n",
       "    <tr>\n",
       "      <th>1</th>\n",
       "      <td>12433</td>\n",
       "      <td>Miss Anne Hill</td>\n",
       "      <td>1</td>\n",
       "      <td>June 20, 1975</td>\n",
       "      <td>Business travel</td>\n",
       "      <td>Business</td>\n",
       "      <td>1629</td>\n",
       "      <td>3</td>\n",
       "      <td>3</td>\n",
       "      <td>3</td>\n",
       "      <td>...</td>\n",
       "      <td>4</td>\n",
       "      <td>4</td>\n",
       "      <td>4</td>\n",
       "      <td>4</td>\n",
       "      <td>4</td>\n",
       "      <td>5</td>\n",
       "      <td>4</td>\n",
       "      <td>3</td>\n",
       "      <td>0</td>\n",
       "      <td>0.0</td>\n",
       "    </tr>\n",
       "    <tr>\n",
       "      <th>2</th>\n",
       "      <td>10273</td>\n",
       "      <td>Mr. Jacob Morrison</td>\n",
       "      <td>1</td>\n",
       "      <td>August 11, 1988</td>\n",
       "      <td>Business travel</td>\n",
       "      <td>Business</td>\n",
       "      <td>1615</td>\n",
       "      <td>5</td>\n",
       "      <td>5</td>\n",
       "      <td>5</td>\n",
       "      <td>...</td>\n",
       "      <td>4</td>\n",
       "      <td>4</td>\n",
       "      <td>5</td>\n",
       "      <td>3</td>\n",
       "      <td>3</td>\n",
       "      <td>3</td>\n",
       "      <td>2</td>\n",
       "      <td>4</td>\n",
       "      <td>0</td>\n",
       "      <td>0.0</td>\n",
       "    </tr>\n",
       "    <tr>\n",
       "      <th>3</th>\n",
       "      <td>12457</td>\n",
       "      <td>Mr. Oliver Jones</td>\n",
       "      <td>0</td>\n",
       "      <td>February 9, 1983</td>\n",
       "      <td>Business travel</td>\n",
       "      <td>Eco</td>\n",
       "      <td>1520</td>\n",
       "      <td>3</td>\n",
       "      <td>3</td>\n",
       "      <td>3</td>\n",
       "      <td>...</td>\n",
       "      <td>2</td>\n",
       "      <td>2</td>\n",
       "      <td>3</td>\n",
       "      <td>3</td>\n",
       "      <td>4</td>\n",
       "      <td>4</td>\n",
       "      <td>5</td>\n",
       "      <td>2</td>\n",
       "      <td>0</td>\n",
       "      <td>0.0</td>\n",
       "    </tr>\n",
       "    <tr>\n",
       "      <th>4</th>\n",
       "      <td>22903</td>\n",
       "      <td>Mrs. Jennifer McDonald</td>\n",
       "      <td>0</td>\n",
       "      <td>March 7, 1994</td>\n",
       "      <td>Business travel</td>\n",
       "      <td>Business</td>\n",
       "      <td>3524</td>\n",
       "      <td>3</td>\n",
       "      <td>3</td>\n",
       "      <td>3</td>\n",
       "      <td>...</td>\n",
       "      <td>2</td>\n",
       "      <td>2</td>\n",
       "      <td>4</td>\n",
       "      <td>3</td>\n",
       "      <td>5</td>\n",
       "      <td>3</td>\n",
       "      <td>5</td>\n",
       "      <td>2</td>\n",
       "      <td>10</td>\n",
       "      <td>0.0</td>\n",
       "    </tr>\n",
       "  </tbody>\n",
       "</table>\n",
       "<p>5 rows × 23 columns</p>\n",
       "</div>"
      ],
      "text/plain": [
       "   Guest_ID                     Name  Frequent_Traveler         Date_Birth  \\\n",
       "0     19847  Mrs. Virginia Mackenzie                  0    October 7, 1983   \n",
       "1     12433           Miss Anne Hill                  1      June 20, 1975   \n",
       "2     10273       Mr. Jacob Morrison                  1    August 11, 1988   \n",
       "3     12457         Mr. Oliver Jones                  0   February 9, 1983   \n",
       "4     22903   Mrs. Jennifer McDonald                  0      March 7, 1994   \n",
       "\n",
       "              Type Flight_Class  Points  Room  Check-in/Check-out  F&B  ...  \\\n",
       "0  Business travel          Eco    2097     3                   3    3  ...   \n",
       "1  Business travel     Business    1629     3                   3    3  ...   \n",
       "2  Business travel     Business    1615     5                   5    5  ...   \n",
       "3  Business travel          Eco    1520     3                   3    3  ...   \n",
       "4  Business travel     Business    3524     3                   3    3  ...   \n",
       "\n",
       "   Gym  Spa  Staff  Pool  Baggage_Handling  Reception  Cleanliness  \\\n",
       "0    1    1      1     3                 3          1            4   \n",
       "1    4    4      4     4                 4          5            4   \n",
       "2    4    4      5     3                 3          3            2   \n",
       "3    2    2      3     3                 4          4            5   \n",
       "4    2    2      4     3                 5          3            5   \n",
       "\n",
       "   Online_Booking  Deposit_Kept  Time_Room_Service  \n",
       "0               1           112               13.5  \n",
       "1               3             0                0.0  \n",
       "2               4             0                0.0  \n",
       "3               2             0                0.0  \n",
       "4               2            10                0.0  \n",
       "\n",
       "[5 rows x 23 columns]"
      ]
     },
     "execution_count": 4,
     "metadata": {},
     "output_type": "execute_result"
    }
   ],
   "source": [
    "test.head()"
   ]
  },
  {
   "cell_type": "markdown",
   "metadata": {},
   "source": [
    "Checking categorical features unique values: "
   ]
  },
  {
   "cell_type": "code",
   "execution_count": 5,
   "metadata": {},
   "outputs": [
    {
     "data": {
      "text/plain": [
       "array(['Business travel', 'Personal Travel'], dtype=object)"
      ]
     },
     "execution_count": 5,
     "metadata": {},
     "output_type": "execute_result"
    }
   ],
   "source": [
    "train.Type.unique()"
   ]
  },
  {
   "cell_type": "code",
   "execution_count": 6,
   "metadata": {},
   "outputs": [
    {
     "data": {
      "text/plain": [
       "array(['Eco', 'Business', 'Eco Plus'], dtype=object)"
      ]
     },
     "execution_count": 6,
     "metadata": {},
     "output_type": "execute_result"
    }
   ],
   "source": [
    "train.Flight_Class.unique()"
   ]
  },
  {
   "cell_type": "markdown",
   "metadata": {},
   "source": [
    "Describe and data types:"
   ]
  },
  {
   "cell_type": "code",
   "execution_count": 7,
   "metadata": {
    "scrolled": false
   },
   "outputs": [
    {
     "data": {
      "text/html": [
       "<div>\n",
       "<style scoped>\n",
       "    .dataframe tbody tr th:only-of-type {\n",
       "        vertical-align: middle;\n",
       "    }\n",
       "\n",
       "    .dataframe tbody tr th {\n",
       "        vertical-align: top;\n",
       "    }\n",
       "\n",
       "    .dataframe thead th {\n",
       "        text-align: right;\n",
       "    }\n",
       "</style>\n",
       "<table border=\"1\" class=\"dataframe\">\n",
       "  <thead>\n",
       "    <tr style=\"text-align: right;\">\n",
       "      <th></th>\n",
       "      <th>count</th>\n",
       "      <th>mean</th>\n",
       "      <th>std</th>\n",
       "      <th>min</th>\n",
       "      <th>25%</th>\n",
       "      <th>50%</th>\n",
       "      <th>75%</th>\n",
       "      <th>max</th>\n",
       "    </tr>\n",
       "  </thead>\n",
       "  <tbody>\n",
       "    <tr>\n",
       "      <th>Guest_ID</th>\n",
       "      <td>9100.0</td>\n",
       "      <td>16538.139341</td>\n",
       "      <td>3764.395637</td>\n",
       "      <td>10001.0</td>\n",
       "      <td>13272.75</td>\n",
       "      <td>16528.5</td>\n",
       "      <td>19810.5</td>\n",
       "      <td>23000.0</td>\n",
       "    </tr>\n",
       "    <tr>\n",
       "      <th>Frequent_Traveler</th>\n",
       "      <td>9100.0</td>\n",
       "      <td>0.814505</td>\n",
       "      <td>0.388720</td>\n",
       "      <td>0.0</td>\n",
       "      <td>1.00</td>\n",
       "      <td>1.0</td>\n",
       "      <td>1.0</td>\n",
       "      <td>1.0</td>\n",
       "    </tr>\n",
       "    <tr>\n",
       "      <th>Points</th>\n",
       "      <td>9100.0</td>\n",
       "      <td>1969.286813</td>\n",
       "      <td>1019.192578</td>\n",
       "      <td>50.0</td>\n",
       "      <td>1354.00</td>\n",
       "      <td>1916.0</td>\n",
       "      <td>2529.0</td>\n",
       "      <td>6097.0</td>\n",
       "    </tr>\n",
       "    <tr>\n",
       "      <th>Room</th>\n",
       "      <td>9100.0</td>\n",
       "      <td>2.847363</td>\n",
       "      <td>1.388212</td>\n",
       "      <td>0.0</td>\n",
       "      <td>2.00</td>\n",
       "      <td>3.0</td>\n",
       "      <td>4.0</td>\n",
       "      <td>5.0</td>\n",
       "    </tr>\n",
       "    <tr>\n",
       "      <th>Check-in/Check-out</th>\n",
       "      <td>9100.0</td>\n",
       "      <td>2.976484</td>\n",
       "      <td>1.539135</td>\n",
       "      <td>0.0</td>\n",
       "      <td>2.00</td>\n",
       "      <td>3.0</td>\n",
       "      <td>4.0</td>\n",
       "      <td>5.0</td>\n",
       "    </tr>\n",
       "    <tr>\n",
       "      <th>F&amp;B</th>\n",
       "      <td>9100.0</td>\n",
       "      <td>2.858352</td>\n",
       "      <td>1.442011</td>\n",
       "      <td>0.0</td>\n",
       "      <td>2.00</td>\n",
       "      <td>3.0</td>\n",
       "      <td>4.0</td>\n",
       "      <td>5.0</td>\n",
       "    </tr>\n",
       "    <tr>\n",
       "      <th>Location</th>\n",
       "      <td>9100.0</td>\n",
       "      <td>2.989560</td>\n",
       "      <td>1.301297</td>\n",
       "      <td>0.0</td>\n",
       "      <td>2.00</td>\n",
       "      <td>3.0</td>\n",
       "      <td>4.0</td>\n",
       "      <td>5.0</td>\n",
       "    </tr>\n",
       "    <tr>\n",
       "      <th>Wifi</th>\n",
       "      <td>9100.0</td>\n",
       "      <td>3.239780</td>\n",
       "      <td>1.311509</td>\n",
       "      <td>0.0</td>\n",
       "      <td>2.00</td>\n",
       "      <td>3.0</td>\n",
       "      <td>4.0</td>\n",
       "      <td>5.0</td>\n",
       "    </tr>\n",
       "    <tr>\n",
       "      <th>Entertainment</th>\n",
       "      <td>9100.0</td>\n",
       "      <td>3.393846</td>\n",
       "      <td>1.336398</td>\n",
       "      <td>0.0</td>\n",
       "      <td>2.00</td>\n",
       "      <td>4.0</td>\n",
       "      <td>4.0</td>\n",
       "      <td>5.0</td>\n",
       "    </tr>\n",
       "    <tr>\n",
       "      <th>Gym</th>\n",
       "      <td>9100.0</td>\n",
       "      <td>3.514505</td>\n",
       "      <td>1.297452</td>\n",
       "      <td>1.0</td>\n",
       "      <td>3.00</td>\n",
       "      <td>4.0</td>\n",
       "      <td>5.0</td>\n",
       "      <td>5.0</td>\n",
       "    </tr>\n",
       "    <tr>\n",
       "      <th>Spa</th>\n",
       "      <td>9100.0</td>\n",
       "      <td>3.477692</td>\n",
       "      <td>1.300556</td>\n",
       "      <td>0.0</td>\n",
       "      <td>2.00</td>\n",
       "      <td>4.0</td>\n",
       "      <td>5.0</td>\n",
       "      <td>5.0</td>\n",
       "    </tr>\n",
       "    <tr>\n",
       "      <th>Staff</th>\n",
       "      <td>9100.0</td>\n",
       "      <td>3.473846</td>\n",
       "      <td>1.273068</td>\n",
       "      <td>1.0</td>\n",
       "      <td>3.00</td>\n",
       "      <td>4.0</td>\n",
       "      <td>5.0</td>\n",
       "      <td>5.0</td>\n",
       "    </tr>\n",
       "    <tr>\n",
       "      <th>Pool</th>\n",
       "      <td>9100.0</td>\n",
       "      <td>3.495385</td>\n",
       "      <td>1.295151</td>\n",
       "      <td>0.0</td>\n",
       "      <td>2.00</td>\n",
       "      <td>4.0</td>\n",
       "      <td>5.0</td>\n",
       "      <td>5.0</td>\n",
       "    </tr>\n",
       "    <tr>\n",
       "      <th>Baggage_Handling</th>\n",
       "      <td>9100.0</td>\n",
       "      <td>3.694396</td>\n",
       "      <td>1.161207</td>\n",
       "      <td>1.0</td>\n",
       "      <td>3.00</td>\n",
       "      <td>4.0</td>\n",
       "      <td>5.0</td>\n",
       "      <td>5.0</td>\n",
       "    </tr>\n",
       "    <tr>\n",
       "      <th>Reception</th>\n",
       "      <td>9100.0</td>\n",
       "      <td>3.336374</td>\n",
       "      <td>1.258245</td>\n",
       "      <td>1.0</td>\n",
       "      <td>3.00</td>\n",
       "      <td>3.0</td>\n",
       "      <td>4.0</td>\n",
       "      <td>5.0</td>\n",
       "    </tr>\n",
       "    <tr>\n",
       "      <th>Cleanliness</th>\n",
       "      <td>9100.0</td>\n",
       "      <td>3.702747</td>\n",
       "      <td>1.155981</td>\n",
       "      <td>1.0</td>\n",
       "      <td>3.00</td>\n",
       "      <td>4.0</td>\n",
       "      <td>5.0</td>\n",
       "      <td>5.0</td>\n",
       "    </tr>\n",
       "    <tr>\n",
       "      <th>Online_Booking</th>\n",
       "      <td>9100.0</td>\n",
       "      <td>3.348352</td>\n",
       "      <td>1.291196</td>\n",
       "      <td>0.0</td>\n",
       "      <td>2.00</td>\n",
       "      <td>4.0</td>\n",
       "      <td>4.0</td>\n",
       "      <td>5.0</td>\n",
       "    </tr>\n",
       "    <tr>\n",
       "      <th>Deposit_Kept</th>\n",
       "      <td>9100.0</td>\n",
       "      <td>14.598022</td>\n",
       "      <td>36.931424</td>\n",
       "      <td>0.0</td>\n",
       "      <td>0.00</td>\n",
       "      <td>0.0</td>\n",
       "      <td>13.0</td>\n",
       "      <td>729.0</td>\n",
       "    </tr>\n",
       "    <tr>\n",
       "      <th>Time_Room_Service</th>\n",
       "      <td>9100.0</td>\n",
       "      <td>1.497429</td>\n",
       "      <td>3.728651</td>\n",
       "      <td>0.0</td>\n",
       "      <td>0.00</td>\n",
       "      <td>0.0</td>\n",
       "      <td>1.3</td>\n",
       "      <td>71.7</td>\n",
       "    </tr>\n",
       "    <tr>\n",
       "      <th>Repeater</th>\n",
       "      <td>9100.0</td>\n",
       "      <td>0.546264</td>\n",
       "      <td>0.497882</td>\n",
       "      <td>0.0</td>\n",
       "      <td>0.00</td>\n",
       "      <td>1.0</td>\n",
       "      <td>1.0</td>\n",
       "      <td>1.0</td>\n",
       "    </tr>\n",
       "  </tbody>\n",
       "</table>\n",
       "</div>"
      ],
      "text/plain": [
       "                     count          mean          std      min       25%  \\\n",
       "Guest_ID            9100.0  16538.139341  3764.395637  10001.0  13272.75   \n",
       "Frequent_Traveler   9100.0      0.814505     0.388720      0.0      1.00   \n",
       "Points              9100.0   1969.286813  1019.192578     50.0   1354.00   \n",
       "Room                9100.0      2.847363     1.388212      0.0      2.00   \n",
       "Check-in/Check-out  9100.0      2.976484     1.539135      0.0      2.00   \n",
       "F&B                 9100.0      2.858352     1.442011      0.0      2.00   \n",
       "Location            9100.0      2.989560     1.301297      0.0      2.00   \n",
       "Wifi                9100.0      3.239780     1.311509      0.0      2.00   \n",
       "Entertainment       9100.0      3.393846     1.336398      0.0      2.00   \n",
       "Gym                 9100.0      3.514505     1.297452      1.0      3.00   \n",
       "Spa                 9100.0      3.477692     1.300556      0.0      2.00   \n",
       "Staff               9100.0      3.473846     1.273068      1.0      3.00   \n",
       "Pool                9100.0      3.495385     1.295151      0.0      2.00   \n",
       "Baggage_Handling    9100.0      3.694396     1.161207      1.0      3.00   \n",
       "Reception           9100.0      3.336374     1.258245      1.0      3.00   \n",
       "Cleanliness         9100.0      3.702747     1.155981      1.0      3.00   \n",
       "Online_Booking      9100.0      3.348352     1.291196      0.0      2.00   \n",
       "Deposit_Kept        9100.0     14.598022    36.931424      0.0      0.00   \n",
       "Time_Room_Service   9100.0      1.497429     3.728651      0.0      0.00   \n",
       "Repeater            9100.0      0.546264     0.497882      0.0      0.00   \n",
       "\n",
       "                        50%      75%      max  \n",
       "Guest_ID            16528.5  19810.5  23000.0  \n",
       "Frequent_Traveler       1.0      1.0      1.0  \n",
       "Points               1916.0   2529.0   6097.0  \n",
       "Room                    3.0      4.0      5.0  \n",
       "Check-in/Check-out      3.0      4.0      5.0  \n",
       "F&B                     3.0      4.0      5.0  \n",
       "Location                3.0      4.0      5.0  \n",
       "Wifi                    3.0      4.0      5.0  \n",
       "Entertainment           4.0      4.0      5.0  \n",
       "Gym                     4.0      5.0      5.0  \n",
       "Spa                     4.0      5.0      5.0  \n",
       "Staff                   4.0      5.0      5.0  \n",
       "Pool                    4.0      5.0      5.0  \n",
       "Baggage_Handling        4.0      5.0      5.0  \n",
       "Reception               3.0      4.0      5.0  \n",
       "Cleanliness             4.0      5.0      5.0  \n",
       "Online_Booking          4.0      4.0      5.0  \n",
       "Deposit_Kept            0.0     13.0    729.0  \n",
       "Time_Room_Service       0.0      1.3     71.7  \n",
       "Repeater                1.0      1.0      1.0  "
      ]
     },
     "execution_count": 7,
     "metadata": {},
     "output_type": "execute_result"
    }
   ],
   "source": [
    "train.describe().transpose()"
   ]
  },
  {
   "cell_type": "code",
   "execution_count": 8,
   "metadata": {},
   "outputs": [
    {
     "data": {
      "text/html": [
       "<div>\n",
       "<style scoped>\n",
       "    .dataframe tbody tr th:only-of-type {\n",
       "        vertical-align: middle;\n",
       "    }\n",
       "\n",
       "    .dataframe tbody tr th {\n",
       "        vertical-align: top;\n",
       "    }\n",
       "\n",
       "    .dataframe thead th {\n",
       "        text-align: right;\n",
       "    }\n",
       "</style>\n",
       "<table border=\"1\" class=\"dataframe\">\n",
       "  <thead>\n",
       "    <tr style=\"text-align: right;\">\n",
       "      <th></th>\n",
       "      <th>count</th>\n",
       "      <th>unique</th>\n",
       "      <th>top</th>\n",
       "      <th>freq</th>\n",
       "    </tr>\n",
       "  </thead>\n",
       "  <tbody>\n",
       "    <tr>\n",
       "      <th>Name</th>\n",
       "      <td>9100</td>\n",
       "      <td>8698</td>\n",
       "      <td>Mrs. Jane Bailey</td>\n",
       "      <td>3</td>\n",
       "    </tr>\n",
       "    <tr>\n",
       "      <th>Date_Birth</th>\n",
       "      <td>8995</td>\n",
       "      <td>6839</td>\n",
       "      <td>June 2, 1976</td>\n",
       "      <td>6</td>\n",
       "    </tr>\n",
       "    <tr>\n",
       "      <th>Type</th>\n",
       "      <td>9100</td>\n",
       "      <td>2</td>\n",
       "      <td>Business travel</td>\n",
       "      <td>6296</td>\n",
       "    </tr>\n",
       "    <tr>\n",
       "      <th>Flight_Class</th>\n",
       "      <td>9100</td>\n",
       "      <td>3</td>\n",
       "      <td>Business</td>\n",
       "      <td>4316</td>\n",
       "    </tr>\n",
       "  </tbody>\n",
       "</table>\n",
       "</div>"
      ],
      "text/plain": [
       "             count unique               top  freq\n",
       "Name          9100   8698  Mrs. Jane Bailey     3\n",
       "Date_Birth    8995   6839      June 2, 1976     6\n",
       "Type          9100      2   Business travel  6296\n",
       "Flight_Class  9100      3          Business  4316"
      ]
     },
     "execution_count": 8,
     "metadata": {},
     "output_type": "execute_result"
    }
   ],
   "source": [
    "train.describe(include=[object]).transpose()"
   ]
  },
  {
   "cell_type": "code",
   "execution_count": 9,
   "metadata": {
    "scrolled": false
   },
   "outputs": [
    {
     "name": "stdout",
     "output_type": "stream",
     "text": [
      "<class 'pandas.core.frame.DataFrame'>\n",
      "RangeIndex: 9100 entries, 0 to 9099\n",
      "Data columns (total 24 columns):\n",
      " #   Column              Non-Null Count  Dtype  \n",
      "---  ------              --------------  -----  \n",
      " 0   Guest_ID            9100 non-null   int64  \n",
      " 1   Name                9100 non-null   object \n",
      " 2   Frequent_Traveler   9100 non-null   int64  \n",
      " 3   Date_Birth          8995 non-null   object \n",
      " 4   Type                9100 non-null   object \n",
      " 5   Flight_Class        9100 non-null   object \n",
      " 6   Points              9100 non-null   int64  \n",
      " 7   Room                9100 non-null   int64  \n",
      " 8   Check-in/Check-out  9100 non-null   int64  \n",
      " 9   F&B                 9100 non-null   int64  \n",
      " 10  Location            9100 non-null   int64  \n",
      " 11  Wifi                9100 non-null   int64  \n",
      " 12  Entertainment       9100 non-null   int64  \n",
      " 13  Gym                 9100 non-null   int64  \n",
      " 14  Spa                 9100 non-null   int64  \n",
      " 15  Staff               9100 non-null   int64  \n",
      " 16  Pool                9100 non-null   int64  \n",
      " 17  Baggage_Handling    9100 non-null   int64  \n",
      " 18  Reception           9100 non-null   int64  \n",
      " 19  Cleanliness         9100 non-null   int64  \n",
      " 20  Online_Booking      9100 non-null   int64  \n",
      " 21  Deposit_Kept        9100 non-null   int64  \n",
      " 22  Time_Room_Service   9100 non-null   float64\n",
      " 23  Repeater            9100 non-null   int64  \n",
      "dtypes: float64(1), int64(19), object(4)\n",
      "memory usage: 1.7+ MB\n"
     ]
    }
   ],
   "source": [
    "train.info()"
   ]
  },
  {
   "cell_type": "markdown",
   "metadata": {},
   "source": [
    "Check for missing values:"
   ]
  },
  {
   "cell_type": "code",
   "execution_count": 10,
   "metadata": {
    "scrolled": false
   },
   "outputs": [
    {
     "data": {
      "text/plain": [
       "Guest_ID                0\n",
       "Name                    0\n",
       "Frequent_Traveler       0\n",
       "Date_Birth            105\n",
       "Type                    0\n",
       "Flight_Class            0\n",
       "Points                  0\n",
       "Room                    0\n",
       "Check-in/Check-out      0\n",
       "F&B                     0\n",
       "Location                0\n",
       "Wifi                    0\n",
       "Entertainment           0\n",
       "Gym                     0\n",
       "Spa                     0\n",
       "Staff                   0\n",
       "Pool                    0\n",
       "Baggage_Handling        0\n",
       "Reception               0\n",
       "Cleanliness             0\n",
       "Online_Booking          0\n",
       "Deposit_Kept            0\n",
       "Time_Room_Service       0\n",
       "Repeater                0\n",
       "dtype: int64"
      ]
     },
     "execution_count": 10,
     "metadata": {},
     "output_type": "execute_result"
    }
   ],
   "source": [
    "train.isna().sum()"
   ]
  },
  {
   "cell_type": "markdown",
   "metadata": {},
   "source": [
    "<hr>\n",
    "<a class=\"anchor\" id=\"explo\">\n",
    "\n",
    "## 2. Exploratory Analysis\n",
    "    \n",
    "</a>"
   ]
  },
  {
   "cell_type": "code",
   "execution_count": 11,
   "metadata": {},
   "outputs": [],
   "source": [
    "df_test = test.copy()\n",
    "df_train = train.copy()"
   ]
  },
  {
   "cell_type": "markdown",
   "metadata": {},
   "source": [
    "Checking categorical values against the target value `repeater`"
   ]
  },
  {
   "cell_type": "code",
   "execution_count": 12,
   "metadata": {
    "scrolled": true
   },
   "outputs": [
    {
     "data": {
      "text/html": [
       "<div>\n",
       "<style scoped>\n",
       "    .dataframe tbody tr th:only-of-type {\n",
       "        vertical-align: middle;\n",
       "    }\n",
       "\n",
       "    .dataframe tbody tr th {\n",
       "        vertical-align: top;\n",
       "    }\n",
       "\n",
       "    .dataframe thead th {\n",
       "        text-align: right;\n",
       "    }\n",
       "</style>\n",
       "<table border=\"1\" class=\"dataframe\">\n",
       "  <thead>\n",
       "    <tr style=\"text-align: right;\">\n",
       "      <th></th>\n",
       "      <th>Type</th>\n",
       "      <th>Repeater</th>\n",
       "    </tr>\n",
       "  </thead>\n",
       "  <tbody>\n",
       "    <tr>\n",
       "      <th>0</th>\n",
       "      <td>Business travel</td>\n",
       "      <td>0.580686</td>\n",
       "    </tr>\n",
       "    <tr>\n",
       "      <th>1</th>\n",
       "      <td>Personal Travel</td>\n",
       "      <td>0.468973</td>\n",
       "    </tr>\n",
       "  </tbody>\n",
       "</table>\n",
       "</div>"
      ],
      "text/plain": [
       "              Type  Repeater\n",
       "0  Business travel  0.580686\n",
       "1  Personal Travel  0.468973"
      ]
     },
     "execution_count": 12,
     "metadata": {},
     "output_type": "execute_result"
    }
   ],
   "source": [
    "df_train[['Type', 'Repeater']].groupby(['Type'], as_index=False).mean().sort_values(by='Repeater', ascending=False)"
   ]
  },
  {
   "cell_type": "code",
   "execution_count": 13,
   "metadata": {},
   "outputs": [],
   "source": [
    "def plot_facetgrid(df,col):\n",
    "    fig = sns.FacetGrid(df, col='Repeater',height=6)\n",
    "    fig.map(plt.hist,col, bins=20)\n",
    "    \n",
    "def plot_hist_boxplot(df,column):\n",
    "    fig, axes = plt.subplots(1,2, figsize = (15,5))\n",
    "    sns.boxplot(ax=axes[0], data=df, x=column)\n",
    "    sns.histplot(ax=axes[1], data = df, x=column, bins=20)"
   ]
  },
  {
   "cell_type": "code",
   "execution_count": 14,
   "metadata": {
    "scrolled": false
   },
   "outputs": [
    {
     "data": {
      "image/png": "[encoded data removed]",
      "text/plain": [
       "<Figure size 864x432 with 2 Axes>"
      ]
     },
     "metadata": {
      "needs_background": "light"
     },
     "output_type": "display_data"
    },
    {
     "data": {
      "image/png": "[encoded data removed]",
      "text/plain": [
       "<Figure size 864x432 with 2 Axes>"
      ]
     },
     "metadata": {
      "needs_background": "light"
     },
     "output_type": "display_data"
    },
    {
     "data": {
      "image/png": "[encoded data removed]",
      "text/plain": [
       "<Figure size 864x432 with 2 Axes>"
      ]
     },
     "metadata": {
      "needs_background": "light"
     },
     "output_type": "display_data"
    },
    {
     "data": {
      "image/png": "[encoded data removed]",
      "text/plain": [
       "<Figure size 864x432 with 2 Axes>"
      ]
     },
     "metadata": {
      "needs_background": "light"
     },
     "output_type": "display_data"
    },
    {
     "data": {
      "image/png": "[encoded data removed]",
      "text/plain": [
       "<Figure size 864x432 with 2 Axes>"
      ]
     },
     "metadata": {
      "needs_background": "light"
     },
     "output_type": "display_data"
    },
    {
     "data": {
      "image/png": "[encoded data removed]",
      "text/plain": [
       "<Figure size 864x432 with 2 Axes>"
      ]
     },
     "metadata": {
      "needs_background": "light"
     },
     "output_type": "display_data"
    },
    {
     "data": {
      "image/png": "[encoded data removed]",
      "text/plain": [
       "<Figure size 864x432 with 2 Axes>"
      ]
     },
     "metadata": {
      "needs_background": "light"
     },
     "output_type": "display_data"
    },
    {
     "data": {
      "image/png": "[encoded data removed]",
      "text/plain": [
       "<Figure size 864x432 with 2 Axes>"
      ]
     },
     "metadata": {
      "needs_background": "light"
     },
     "output_type": "display_data"
    },
    {
     "data": {
      "image/png": "[encoded data removed]",
      "text/plain": [
       "<Figure size 864x432 with 2 Axes>"
      ]
     },
     "metadata": {
      "needs_background": "light"
     },
     "output_type": "display_data"
    },
    {
     "data": {
      "image/png": "[encoded data removed]",
      "text/plain": [
       "<Figure size 864x432 with 2 Axes>"
      ]
     },
     "metadata": {
      "needs_background": "light"
     },
     "output_type": "display_data"
    },
    {
     "data": {
      "image/png": "[encoded data removed]",
      "text/plain": [
       "<Figure size 864x432 with 2 Axes>"
      ]
     },
     "metadata": {
      "needs_background": "light"
     },
     "output_type": "display_data"
    },
    {
     "data": {
      "image/png": "[encoded data removed]",
      "text/plain": [
       "<Figure size 864x432 with 2 Axes>"
      ]
     },
     "metadata": {
      "needs_background": "light"
     },
     "output_type": "display_data"
    },
    {
     "data": {
      "image/png": "[encoded data removed]",
      "text/plain": [
       "<Figure size 864x432 with 2 Axes>"
      ]
     },
     "metadata": {
      "needs_background": "light"
     },
     "output_type": "display_data"
    },
    {
     "data": {
      "image/png": "[encoded data removed]",
      "text/plain": [
       "<Figure size 864x432 with 2 Axes>"
      ]
     },
     "metadata": {
      "needs_background": "light"
     },
     "output_type": "display_data"
    },
    {
     "data": {
      "image/png": "[encoded data removed]",
      "text/plain": [
       "<Figure size 864x432 with 2 Axes>"
      ]
     },
     "metadata": {
      "needs_background": "light"
     },
     "output_type": "display_data"
    },
    {
     "data": {
      "image/png": "[encoded data removed]",
      "text/plain": [
       "<Figure size 864x432 with 2 Axes>"
      ]
     },
     "metadata": {
      "needs_background": "light"
     },
     "output_type": "display_data"
    },
    {
     "data": {
      "image/png": "[encoded data removed]",
      "text/plain": [
       "<Figure size 864x432 with 2 Axes>"
      ]
     },
     "metadata": {
      "needs_background": "light"
     },
     "output_type": "display_data"
    }
   ],
   "source": [
    "all_vars = list(df_train)\n",
    "drop_vars = ['Guest_ID','Name','Date_Birth','Points','Deposit_Kept','Time_Room_Service','Repeater']\n",
    "vars_to_plot = all_vars.copy()\n",
    "for var in drop_vars:    \n",
    "    vars_to_plot.remove(var)\n",
    "\n",
    "for i in vars_to_plot:\n",
    "    plot_facetgrid(df_train,i)"
   ]
  },
  {
   "cell_type": "code",
   "execution_count": 15,
   "metadata": {
    "scrolled": false
   },
   "outputs": [
    {
     "data": {
      "image/png": "[encoded data removed]",
      "text/plain": [
       "<Figure size 1080x360 with 2 Axes>"
      ]
     },
     "metadata": {
      "needs_background": "light"
     },
     "output_type": "display_data"
    },
    {
     "data": {
      "image/png": "[encoded data removed]",
      "text/plain": [
       "<Figure size 1080x360 with 2 Axes>"
      ]
     },
     "metadata": {
      "needs_background": "light"
     },
     "output_type": "display_data"
    },
    {
     "data": {
      "image/png": "[encoded data removed]",
      "text/plain": [
       "<Figure size 1080x360 with 2 Axes>"
      ]
     },
     "metadata": {
      "needs_background": "light"
     },
     "output_type": "display_data"
    }
   ],
   "source": [
    "features = ['Points','Deposit_Kept','Time_Room_Service']\n",
    "\n",
    "for f in features:\n",
    "    plot_hist_boxplot(df_train,f)"
   ]
  },
  {
   "cell_type": "markdown",
   "metadata": {},
   "source": [
    "<hr>\n",
    "<a class=\"anchor\" id=\"dc\">\n",
    "\n",
    "## 3. Data Cleaning & Transformation\n",
    "    \n",
    "</a>\n"
   ]
  },
  {
   "cell_type": "markdown",
   "metadata": {},
   "source": [
    "Initiating this section with copy of original dataframes. Set `Guest_ID` as index and start the clean and transformation process:"
   ]
  },
  {
   "cell_type": "code",
   "execution_count": 16,
   "metadata": {},
   "outputs": [],
   "source": [
    "df_training = df_train.copy()\n",
    "df_testing = df_test.copy()\n",
    "df_combined = [df_training,df_testing]\n",
    "\n",
    "df_training.set_index('Guest_ID', inplace = True)\n",
    "df_testing.set_index('Guest_ID', inplace = True)"
   ]
  },
  {
   "cell_type": "markdown",
   "metadata": {},
   "source": [
    "Taking care of feature `name` and create a new variable `gender`"
   ]
  },
  {
   "cell_type": "code",
   "execution_count": 17,
   "metadata": {},
   "outputs": [],
   "source": [
    "def get_gender(val):\n",
    "    genderDict = {\n",
    "        'Mr.': '1',\n",
    "        'Miss': '0',\n",
    "        'Mrs.': '0',\n",
    "        'Ms': '0'\n",
    "    }\n",
    "    for g in genderDict:\n",
    "        if g in val:\n",
    "            return genderDict[g]\n",
    "\n",
    "for dataset in df_combined:\n",
    "    dataset['gender'] = dataset['Name'].apply(lambda x: get_gender(x))\n",
    "    dataset.drop(['Name'],axis=1,inplace=True)"
   ]
  },
  {
   "cell_type": "markdown",
   "metadata": {},
   "source": [
    "Taking care of feature `Data_Birth` and create a new one `age`:"
   ]
  },
  {
   "cell_type": "code",
   "execution_count": 18,
   "metadata": {},
   "outputs": [],
   "source": [
    "for dataset in df_combined:\n",
    "    year = dataset[\"Date_Birth\"].str.split(\", \", n = 1, expand = True) \n",
    "\n",
    "    dataset['year'] = year[1]\n",
    "\n",
    "    dataset['year'] = dataset['year'].astype(float)\n",
    "\n",
    "    dataset['age'] = dataset['year'].apply(lambda x: pd.to_datetime('now').year - x)\n",
    "\n",
    "    dataset.drop(['year','Date_Birth'],axis=1,inplace=True)"
   ]
  },
  {
   "cell_type": "markdown",
   "metadata": {},
   "source": [
    "Taking care of `NaN` values of variable `age`"
   ]
  },
  {
   "cell_type": "code",
   "execution_count": 19,
   "metadata": {},
   "outputs": [],
   "source": [
    "for dataset in df_combined:\n",
    "    dataset['age'].fillna((df_training['age'].median()), inplace=True) #fillna only with train median values!"
   ]
  },
  {
   "cell_type": "markdown",
   "metadata": {},
   "source": [
    "Since `Time_Room_Service`and `Deposit_Kept`have high skew, let's tranform those variables to reduce that value. We can check by the following plots that de log transformation is the better one:"
   ]
  },
  {
   "cell_type": "code",
   "execution_count": 20,
   "metadata": {},
   "outputs": [
    {
     "data": {
      "text/plain": [
       "Frequent_Traveler    -1.618517\n",
       "Points                0.439061\n",
       "Room                 -0.091185\n",
       "Check-in/Check-out   -0.250935\n",
       "F&B                  -0.106572\n",
       "Location             -0.042923\n",
       "Wifi                 -0.169465\n",
       "Entertainment        -0.598392\n",
       "Gym                  -0.568206\n",
       "Spa                  -0.490145\n",
       "Staff                -0.503970\n",
       "Pool                 -0.526591\n",
       "Baggage_Handling     -0.744938\n",
       "Reception            -0.379886\n",
       "Cleanliness          -0.743727\n",
       "Online_Booking       -0.362761\n",
       "Deposit_Kept          5.744714\n",
       "Time_Room_Service     5.591083\n",
       "Repeater             -0.185883\n",
       "gender                0.031658\n",
       "age                   0.011020\n",
       "dtype: float64"
      ]
     },
     "execution_count": 20,
     "metadata": {},
     "output_type": "execute_result"
    }
   ],
   "source": [
    "df_training.skew()"
   ]
  },
  {
   "cell_type": "code",
   "execution_count": 21,
   "metadata": {},
   "outputs": [],
   "source": [
    "def trans_log(df, columns):\n",
    "    output = {}\n",
    "    for col in columns:\n",
    "        output[col + \"_log\"] = np.where(pd.to_numeric(df[col]) > 0, np.log(df[col]), df[col])\n",
    "    odf = pd.DataFrame.from_dict(output)\n",
    "    print_skews(odf, list(odf.columns))\n",
    "    print_hist(odf, list(odf.keys()))\n",
    "    return odf\n",
    "\n",
    "def trans_inv(df, columns):\n",
    "    output = {}\n",
    "    for col in columns:\n",
    "        output[col + \"_inv\"] = np.where(pd.to_numeric(df[col]) > 0, 1/df[col], df[col])\n",
    "    odf = pd.DataFrame.from_dict(output)\n",
    "    print_skews(odf, list(odf.columns))\n",
    "    print_hist(odf, list(odf.keys()))\n",
    "    return odf\n",
    "\n",
    "def trans_sqrt(df, columns):\n",
    "    output = {}\n",
    "    for col in columns:\n",
    "        output[col + \"_sqrt\"] = np.where(pd.to_numeric(df[col]) > 0, np.sqrt(df[col]), df[col])\n",
    "    odf = pd.DataFrame.from_dict(output)\n",
    "    print_skews(odf, list(odf.columns))\n",
    "    print_hist(odf, list(odf.keys()))\n",
    "    return odf\n",
    "\n",
    "def trans_sqrt_inv(df, columns):\n",
    "    output = {}\n",
    "    for col in columns:\n",
    "        output[col + \"_inv_sqrt\"] = np.where(pd.to_numeric(df[col]) > 0, 1/np.sqrt(df[col]), df[col])\n",
    "    odf = pd.DataFrame.from_dict(output)\n",
    "    print_skews(odf, list(odf.columns))\n",
    "    print_hist(odf, list(odf.keys()))\n",
    "    return odf\n",
    "\n",
    "def trans_neg_sqrt_inv(df, columns):\n",
    "    output = {}\n",
    "    for col in columns:\n",
    "        output[col + \"_neg_inv_sqrt\"] = np.where(pd.to_numeric(df[col]) > 0, -1/np.sqrt(df[col]), df[col])\n",
    "    odf = pd.DataFrame.from_dict(output)\n",
    "    print_skews(odf, list(odf.columns))\n",
    "    print_hist(odf, list(odf.keys()))\n",
    "    return odf\n",
    "\n",
    "def print_skews(df, columns):\n",
    "    for column in columns:\n",
    "        print(f\"Skew ({column}): {df[column].skew()}\")\n",
    "\n",
    "def print_hist(df, columns):\n",
    "    fig, axes = plt.subplots(1,2, figsize = (14,6))\n",
    "    for column in columns:\n",
    "        sns.histplot(ax = axes[0], data = df[column], bins = 10)\n",
    "        sm.qqplot(ax = axes[1], data = df[column], line='45')\n",
    "        plt.show()"
   ]
  },
  {
   "cell_type": "code",
   "execution_count": 22,
   "metadata": {
    "scrolled": false
   },
   "outputs": [
    {
     "name": "stdout",
     "output_type": "stream",
     "text": [
      "Skew (Time_Room_Service_log): 0.6035151811711005\n"
     ]
    },
    {
     "data": {
      "image/png": "[encoded data removed]",
      "text/plain": [
       "<Figure size 1008x432 with 2 Axes>"
      ]
     },
     "metadata": {
      "needs_background": "light"
     },
     "output_type": "display_data"
    },
    {
     "name": "stdout",
     "output_type": "stream",
     "text": [
      "Skew (Time_Room_Service_inv): 4.299225649822468\n"
     ]
    },
    {
     "data": {
      "image/png": "[encoded data removed]",
      "text/plain": [
       "<Figure size 1008x432 with 2 Axes>"
      ]
     },
     "metadata": {
      "needs_background": "light"
     },
     "output_type": "display_data"
    },
    {
     "name": "stdout",
     "output_type": "stream",
     "text": [
      "Skew (Time_Room_Service_sqrt): 1.8646414818064265\n"
     ]
    },
    {
     "data": {
      "image/png": "[encoded data removed]",
      "text/plain": [
       "<Figure size 1008x432 with 2 Axes>"
      ]
     },
     "metadata": {
      "needs_background": "light"
     },
     "output_type": "display_data"
    },
    {
     "name": "stdout",
     "output_type": "stream",
     "text": [
      "Skew (Time_Room_Service_inv_sqrt): 2.105077788511191\n"
     ]
    },
    {
     "data": {
      "image/png": "[encoded data removed]",
      "text/plain": [
       "<Figure size 1008x432 with 2 Axes>"
      ]
     },
     "metadata": {
      "needs_background": "light"
     },
     "output_type": "display_data"
    },
    {
     "name": "stdout",
     "output_type": "stream",
     "text": [
      "Skew (Time_Room_Service_log): 0.5152572631923352\n"
     ]
    },
    {
     "data": {
      "image/png": "[encoded data removed]",
      "text/plain": [
       "<Figure size 1008x432 with 2 Axes>"
      ]
     },
     "metadata": {
      "needs_background": "light"
     },
     "output_type": "display_data"
    },
    {
     "name": "stdout",
     "output_type": "stream",
     "text": [
      "Skew (Time_Room_Service_inv): 3.9802670680727634\n"
     ]
    },
    {
     "data": {
      "image/png": "[encoded data removed]",
      "text/plain": [
       "<Figure size 1008x432 with 2 Axes>"
      ]
     },
     "metadata": {
      "needs_background": "light"
     },
     "output_type": "display_data"
    },
    {
     "name": "stdout",
     "output_type": "stream",
     "text": [
      "Skew (Time_Room_Service_sqrt): 1.8713670390696144\n"
     ]
    },
    {
     "data": {
      "image/png": "[encoded data removed]",
      "text/plain": [
       "<Figure size 1008x432 with 2 Axes>"
      ]
     },
     "metadata": {
      "needs_background": "light"
     },
     "output_type": "display_data"
    },
    {
     "name": "stdout",
     "output_type": "stream",
     "text": [
      "Skew (Time_Room_Service_inv_sqrt): 1.9998414196895193\n"
     ]
    },
    {
     "data": {
      "image/png": "[encoded data removed]",
      "text/plain": [
       "<Figure size 1008x432 with 2 Axes>"
      ]
     },
     "metadata": {
      "needs_background": "light"
     },
     "output_type": "display_data"
    }
   ],
   "source": [
    "col = 'Time_Room_Service'\n",
    "\n",
    "logCols_train = trans_log(df_training,[col])\n",
    "invCols_train = trans_inv(df_training,[col])\n",
    "sqrtCols_train = trans_sqrt(df_training,[col])\n",
    "invSqrtCols_train = trans_sqrt_inv(df_training,[col])\n",
    "\n",
    "logCols_test = trans_log(df_testing,[col])\n",
    "invCols_test = trans_inv(df_testing,[col])\n",
    "sqrtCols_test = trans_sqrt(df_testing,[col])\n",
    "invSqrtCols_test = trans_sqrt_inv(df_testing,[col])"
   ]
  },
  {
   "cell_type": "markdown",
   "metadata": {},
   "source": [
    "Transforming the variable do log(variable):"
   ]
  },
  {
   "cell_type": "code",
   "execution_count": 23,
   "metadata": {},
   "outputs": [],
   "source": [
    "df_training.drop(columns=[col], inplace=True)\n",
    "logCols_train.set_index(df_training.index, inplace=True)\n",
    "df_training = df_training.join(logCols_train)\n",
    "df_training.rename(columns={col+\"_log\":col}, inplace=True)\n",
    "\n",
    "df_testing.drop(columns=[col], inplace=True)\n",
    "logCols_test.set_index(df_testing.index, inplace=True)\n",
    "df_testing = df_testing.join(logCols_test)\n",
    "df_testing.rename(columns={col+\"_log\":col}, inplace=True)"
   ]
  },
  {
   "cell_type": "code",
   "execution_count": 24,
   "metadata": {
    "scrolled": false
   },
   "outputs": [
    {
     "name": "stdout",
     "output_type": "stream",
     "text": [
      "Skew (Deposit_Kept_log): 0.9826323594115263\n"
     ]
    },
    {
     "data": {
      "image/png": "[encoded data removed]",
      "text/plain": [
       "<Figure size 1008x432 with 2 Axes>"
      ]
     },
     "metadata": {
      "needs_background": "light"
     },
     "output_type": "display_data"
    },
    {
     "name": "stdout",
     "output_type": "stream",
     "text": [
      "Skew (Deposit_Kept_inv): 3.8585041973122616\n"
     ]
    },
    {
     "data": {
      "image/png": "[encoded data removed]",
      "text/plain": [
       "<Figure size 1008x432 with 2 Axes>"
      ]
     },
     "metadata": {
      "needs_background": "light"
     },
     "output_type": "display_data"
    },
    {
     "name": "stdout",
     "output_type": "stream",
     "text": [
      "Skew (Deposit_Kept_sqrt): 1.9080977326816995\n"
     ]
    },
    {
     "data": {
      "image/png": "[encoded data removed]",
      "text/plain": [
       "<Figure size 1008x432 with 2 Axes>"
      ]
     },
     "metadata": {
      "needs_background": "light"
     },
     "output_type": "display_data"
    },
    {
     "name": "stdout",
     "output_type": "stream",
     "text": [
      "Skew (Deposit_Kept_inv_sqrt): 2.056395087940541\n"
     ]
    },
    {
     "data": {
      "image/png": "[encoded data removed]",
      "text/plain": [
       "<Figure size 1008x432 with 2 Axes>"
      ]
     },
     "metadata": {
      "needs_background": "light"
     },
     "output_type": "display_data"
    },
    {
     "name": "stdout",
     "output_type": "stream",
     "text": [
      "Skew (Deposit_Kept_log): 0.9706611836849538\n"
     ]
    },
    {
     "data": {
      "image/png": "[encoded data removed]",
      "text/plain": [
       "<Figure size 1008x432 with 2 Axes>"
      ]
     },
     "metadata": {
      "needs_background": "light"
     },
     "output_type": "display_data"
    },
    {
     "name": "stdout",
     "output_type": "stream",
     "text": [
      "Skew (Deposit_Kept_inv): 3.7330906231778824\n"
     ]
    },
    {
     "data": {
      "image/png": "[encoded data removed]",
      "text/plain": [
       "<Figure size 1008x432 with 2 Axes>"
      ]
     },
     "metadata": {
      "needs_background": "light"
     },
     "output_type": "display_data"
    },
    {
     "name": "stdout",
     "output_type": "stream",
     "text": [
      "Skew (Deposit_Kept_sqrt): 1.9055160343276596\n"
     ]
    },
    {
     "data": {
      "image/png": "[encoded data removed]",
      "text/plain": [
       "<Figure size 1008x432 with 2 Axes>"
      ]
     },
     "metadata": {
      "needs_background": "light"
     },
     "output_type": "display_data"
    },
    {
     "name": "stdout",
     "output_type": "stream",
     "text": [
      "Skew (Deposit_Kept_inv_sqrt): 2.010416103107346\n"
     ]
    },
    {
     "data": {
      "image/png": "[encoded data removed]",
      "text/plain": [
       "<Figure size 1008x432 with 2 Axes>"
      ]
     },
     "metadata": {
      "needs_background": "light"
     },
     "output_type": "display_data"
    }
   ],
   "source": [
    "col = 'Deposit_Kept'\n",
    "\n",
    "logCols_train = trans_log(df_training,[col])\n",
    "invCols_train = trans_inv(df_training,[col])\n",
    "sqrtCols_train = trans_sqrt(df_training,[col])\n",
    "invSqrtCols_train = trans_sqrt_inv(df_training,[col])\n",
    "\n",
    "logCols_test = trans_log(df_testing,[col])\n",
    "invCols_test = trans_inv(df_testing,[col])\n",
    "sqrtCols_test = trans_sqrt(df_testing,[col])\n",
    "invSqrtCols_test = trans_sqrt_inv(df_testing,[col])"
   ]
  },
  {
   "cell_type": "markdown",
   "metadata": {},
   "source": [
    "Transforming the variable do log(variable):"
   ]
  },
  {
   "cell_type": "code",
   "execution_count": 25,
   "metadata": {},
   "outputs": [],
   "source": [
    "df_training.drop(columns=[col], inplace=True)\n",
    "logCols_train.set_index(df_training.index, inplace=True)\n",
    "df_training = df_training.join(logCols_train)\n",
    "df_training.rename(columns={col+\"_log\":col}, inplace=True)\n",
    "\n",
    "df_testing.drop(columns=[col], inplace=True)\n",
    "logCols_test.set_index(df_testing.index, inplace=True)\n",
    "df_testing = df_testing.join(logCols_test)\n",
    "df_testing.rename(columns={col+\"_log\":col}, inplace=True)"
   ]
  },
  {
   "cell_type": "markdown",
   "metadata": {},
   "source": [
    "Finally, let's get a final df with dummy variables and scale both dataframes:"
   ]
  },
  {
   "cell_type": "code",
   "execution_count": 26,
   "metadata": {},
   "outputs": [],
   "source": [
    "df_training = pd.get_dummies(df_training,drop_first=True)\n",
    "df_testing = pd.get_dummies(df_testing,drop_first=True)\n",
    "\n",
    "scaler_train = MinMaxScaler().fit(df_training)\n",
    "df_train_scaled = scaler_train.transform(df_training) # this will return an array\n",
    "# Convert the array to a pandas dataframe\n",
    "df_train_scaled = pd.DataFrame(df_train_scaled, columns = df_training.columns).set_index(df_training.index)\n",
    "\n",
    "scaler_test = MinMaxScaler().fit(df_testing)\n",
    "df_test_scaled = scaler_test.transform(df_testing) # this will return an array\n",
    "# Convert the array to a pandas dataframe\n",
    "df_test_scaled = pd.DataFrame(df_test_scaled, columns = df_testing.columns).set_index(df_testing.index)"
   ]
  },
  {
   "cell_type": "code",
   "execution_count": 27,
   "metadata": {},
   "outputs": [
    {
     "data": {
      "text/html": [
       "<div>\n",
       "<style scoped>\n",
       "    .dataframe tbody tr th:only-of-type {\n",
       "        vertical-align: middle;\n",
       "    }\n",
       "\n",
       "    .dataframe tbody tr th {\n",
       "        vertical-align: top;\n",
       "    }\n",
       "\n",
       "    .dataframe thead th {\n",
       "        text-align: right;\n",
       "    }\n",
       "</style>\n",
       "<table border=\"1\" class=\"dataframe\">\n",
       "  <thead>\n",
       "    <tr style=\"text-align: right;\">\n",
       "      <th></th>\n",
       "      <th>Frequent_Traveler</th>\n",
       "      <th>Points</th>\n",
       "      <th>Room</th>\n",
       "      <th>Check-in/Check-out</th>\n",
       "      <th>F&amp;B</th>\n",
       "      <th>Location</th>\n",
       "      <th>Wifi</th>\n",
       "      <th>Entertainment</th>\n",
       "      <th>Gym</th>\n",
       "      <th>Spa</th>\n",
       "      <th>...</th>\n",
       "      <th>Cleanliness</th>\n",
       "      <th>Online_Booking</th>\n",
       "      <th>Repeater</th>\n",
       "      <th>age</th>\n",
       "      <th>Time_Room_Service</th>\n",
       "      <th>Deposit_Kept</th>\n",
       "      <th>Type_Personal Travel</th>\n",
       "      <th>Flight_Class_Eco</th>\n",
       "      <th>Flight_Class_Eco Plus</th>\n",
       "      <th>gender_1</th>\n",
       "    </tr>\n",
       "    <tr>\n",
       "      <th>Guest_ID</th>\n",
       "      <th></th>\n",
       "      <th></th>\n",
       "      <th></th>\n",
       "      <th></th>\n",
       "      <th></th>\n",
       "      <th></th>\n",
       "      <th></th>\n",
       "      <th></th>\n",
       "      <th></th>\n",
       "      <th></th>\n",
       "      <th></th>\n",
       "      <th></th>\n",
       "      <th></th>\n",
       "      <th></th>\n",
       "      <th></th>\n",
       "      <th></th>\n",
       "      <th></th>\n",
       "      <th></th>\n",
       "      <th></th>\n",
       "      <th></th>\n",
       "      <th></th>\n",
       "    </tr>\n",
       "  </thead>\n",
       "  <tbody>\n",
       "    <tr>\n",
       "      <th>19346</th>\n",
       "      <td>1.0</td>\n",
       "      <td>0.437407</td>\n",
       "      <td>0.6</td>\n",
       "      <td>1.0</td>\n",
       "      <td>1.0</td>\n",
       "      <td>1.0</td>\n",
       "      <td>0.4</td>\n",
       "      <td>0.6</td>\n",
       "      <td>0.50</td>\n",
       "      <td>0.8</td>\n",
       "      <td>...</td>\n",
       "      <td>0.50</td>\n",
       "      <td>0.6</td>\n",
       "      <td>0.0</td>\n",
       "      <td>0.294872</td>\n",
       "      <td>0.807332</td>\n",
       "      <td>0.793593</td>\n",
       "      <td>0.0</td>\n",
       "      <td>1.0</td>\n",
       "      <td>0.0</td>\n",
       "      <td>1.0</td>\n",
       "    </tr>\n",
       "    <tr>\n",
       "      <th>21830</th>\n",
       "      <td>1.0</td>\n",
       "      <td>0.331900</td>\n",
       "      <td>0.4</td>\n",
       "      <td>0.2</td>\n",
       "      <td>0.4</td>\n",
       "      <td>0.8</td>\n",
       "      <td>0.6</td>\n",
       "      <td>0.4</td>\n",
       "      <td>0.50</td>\n",
       "      <td>0.6</td>\n",
       "      <td>...</td>\n",
       "      <td>0.50</td>\n",
       "      <td>0.6</td>\n",
       "      <td>0.0</td>\n",
       "      <td>0.641026</td>\n",
       "      <td>0.377928</td>\n",
       "      <td>0.000000</td>\n",
       "      <td>1.0</td>\n",
       "      <td>1.0</td>\n",
       "      <td>0.0</td>\n",
       "      <td>1.0</td>\n",
       "    </tr>\n",
       "    <tr>\n",
       "      <th>17626</th>\n",
       "      <td>1.0</td>\n",
       "      <td>0.236150</td>\n",
       "      <td>0.4</td>\n",
       "      <td>0.4</td>\n",
       "      <td>0.4</td>\n",
       "      <td>0.4</td>\n",
       "      <td>0.6</td>\n",
       "      <td>0.8</td>\n",
       "      <td>0.75</td>\n",
       "      <td>0.8</td>\n",
       "      <td>...</td>\n",
       "      <td>0.75</td>\n",
       "      <td>1.0</td>\n",
       "      <td>1.0</td>\n",
       "      <td>0.115385</td>\n",
       "      <td>0.350199</td>\n",
       "      <td>0.000000</td>\n",
       "      <td>1.0</td>\n",
       "      <td>1.0</td>\n",
       "      <td>0.0</td>\n",
       "      <td>0.0</td>\n",
       "    </tr>\n",
       "    <tr>\n",
       "      <th>17988</th>\n",
       "      <td>1.0</td>\n",
       "      <td>0.372747</td>\n",
       "      <td>0.6</td>\n",
       "      <td>0.2</td>\n",
       "      <td>0.2</td>\n",
       "      <td>0.2</td>\n",
       "      <td>0.6</td>\n",
       "      <td>0.6</td>\n",
       "      <td>0.50</td>\n",
       "      <td>0.2</td>\n",
       "      <td>...</td>\n",
       "      <td>0.25</td>\n",
       "      <td>0.6</td>\n",
       "      <td>0.0</td>\n",
       "      <td>0.525641</td>\n",
       "      <td>0.762065</td>\n",
       "      <td>0.757081</td>\n",
       "      <td>0.0</td>\n",
       "      <td>0.0</td>\n",
       "      <td>0.0</td>\n",
       "      <td>0.0</td>\n",
       "    </tr>\n",
       "    <tr>\n",
       "      <th>16703</th>\n",
       "      <td>1.0</td>\n",
       "      <td>0.003804</td>\n",
       "      <td>0.6</td>\n",
       "      <td>0.6</td>\n",
       "      <td>0.6</td>\n",
       "      <td>0.6</td>\n",
       "      <td>0.2</td>\n",
       "      <td>0.4</td>\n",
       "      <td>0.75</td>\n",
       "      <td>0.6</td>\n",
       "      <td>...</td>\n",
       "      <td>0.50</td>\n",
       "      <td>0.6</td>\n",
       "      <td>1.0</td>\n",
       "      <td>0.576923</td>\n",
       "      <td>0.350199</td>\n",
       "      <td>0.271822</td>\n",
       "      <td>0.0</td>\n",
       "      <td>1.0</td>\n",
       "      <td>0.0</td>\n",
       "      <td>0.0</td>\n",
       "    </tr>\n",
       "  </tbody>\n",
       "</table>\n",
       "<p>5 rows × 24 columns</p>\n",
       "</div>"
      ],
      "text/plain": [
       "          Frequent_Traveler    Points  Room  Check-in/Check-out  F&B  \\\n",
       "Guest_ID                                                               \n",
       "19346                   1.0  0.437407   0.6                 1.0  1.0   \n",
       "21830                   1.0  0.331900   0.4                 0.2  0.4   \n",
       "17626                   1.0  0.236150   0.4                 0.4  0.4   \n",
       "17988                   1.0  0.372747   0.6                 0.2  0.2   \n",
       "16703                   1.0  0.003804   0.6                 0.6  0.6   \n",
       "\n",
       "          Location  Wifi  Entertainment   Gym  Spa  ...  Cleanliness  \\\n",
       "Guest_ID                                            ...                \n",
       "19346          1.0   0.4            0.6  0.50  0.8  ...         0.50   \n",
       "21830          0.8   0.6            0.4  0.50  0.6  ...         0.50   \n",
       "17626          0.4   0.6            0.8  0.75  0.8  ...         0.75   \n",
       "17988          0.2   0.6            0.6  0.50  0.2  ...         0.25   \n",
       "16703          0.6   0.2            0.4  0.75  0.6  ...         0.50   \n",
       "\n",
       "          Online_Booking  Repeater       age  Time_Room_Service  Deposit_Kept  \\\n",
       "Guest_ID                                                                        \n",
       "19346                0.6       0.0  0.294872           0.807332      0.793593   \n",
       "21830                0.6       0.0  0.641026           0.377928      0.000000   \n",
       "17626                1.0       1.0  0.115385           0.350199      0.000000   \n",
       "17988                0.6       0.0  0.525641           0.762065      0.757081   \n",
       "16703                0.6       1.0  0.576923           0.350199      0.271822   \n",
       "\n",
       "          Type_Personal Travel  Flight_Class_Eco  Flight_Class_Eco Plus  \\\n",
       "Guest_ID                                                                  \n",
       "19346                      0.0               1.0                    0.0   \n",
       "21830                      1.0               1.0                    0.0   \n",
       "17626                      1.0               1.0                    0.0   \n",
       "17988                      0.0               0.0                    0.0   \n",
       "16703                      0.0               1.0                    0.0   \n",
       "\n",
       "          gender_1  \n",
       "Guest_ID            \n",
       "19346          1.0  \n",
       "21830          1.0  \n",
       "17626          0.0  \n",
       "17988          0.0  \n",
       "16703          0.0  \n",
       "\n",
       "[5 rows x 24 columns]"
      ]
     },
     "execution_count": 27,
     "metadata": {},
     "output_type": "execute_result"
    }
   ],
   "source": [
    "df_train_scaled.head()"
   ]
  },
  {
   "cell_type": "code",
   "execution_count": 28,
   "metadata": {},
   "outputs": [
    {
     "data": {
      "text/html": [
       "<div>\n",
       "<style scoped>\n",
       "    .dataframe tbody tr th:only-of-type {\n",
       "        vertical-align: middle;\n",
       "    }\n",
       "\n",
       "    .dataframe tbody tr th {\n",
       "        vertical-align: top;\n",
       "    }\n",
       "\n",
       "    .dataframe thead th {\n",
       "        text-align: right;\n",
       "    }\n",
       "</style>\n",
       "<table border=\"1\" class=\"dataframe\">\n",
       "  <thead>\n",
       "    <tr style=\"text-align: right;\">\n",
       "      <th></th>\n",
       "      <th>Frequent_Traveler</th>\n",
       "      <th>Points</th>\n",
       "      <th>Room</th>\n",
       "      <th>Check-in/Check-out</th>\n",
       "      <th>F&amp;B</th>\n",
       "      <th>Location</th>\n",
       "      <th>Wifi</th>\n",
       "      <th>Entertainment</th>\n",
       "      <th>Gym</th>\n",
       "      <th>Spa</th>\n",
       "      <th>...</th>\n",
       "      <th>Reception</th>\n",
       "      <th>Cleanliness</th>\n",
       "      <th>Online_Booking</th>\n",
       "      <th>age</th>\n",
       "      <th>Time_Room_Service</th>\n",
       "      <th>Deposit_Kept</th>\n",
       "      <th>Type_Personal Travel</th>\n",
       "      <th>Flight_Class_Eco</th>\n",
       "      <th>Flight_Class_Eco Plus</th>\n",
       "      <th>gender_1</th>\n",
       "    </tr>\n",
       "    <tr>\n",
       "      <th>Guest_ID</th>\n",
       "      <th></th>\n",
       "      <th></th>\n",
       "      <th></th>\n",
       "      <th></th>\n",
       "      <th></th>\n",
       "      <th></th>\n",
       "      <th></th>\n",
       "      <th></th>\n",
       "      <th></th>\n",
       "      <th></th>\n",
       "      <th></th>\n",
       "      <th></th>\n",
       "      <th></th>\n",
       "      <th></th>\n",
       "      <th></th>\n",
       "      <th></th>\n",
       "      <th></th>\n",
       "      <th></th>\n",
       "      <th></th>\n",
       "      <th></th>\n",
       "      <th></th>\n",
       "    </tr>\n",
       "  </thead>\n",
       "  <tbody>\n",
       "    <tr>\n",
       "      <th>19847</th>\n",
       "      <td>0.0</td>\n",
       "      <td>0.315554</td>\n",
       "      <td>0.6</td>\n",
       "      <td>0.6</td>\n",
       "      <td>0.6</td>\n",
       "      <td>0.75</td>\n",
       "      <td>0.6</td>\n",
       "      <td>0.2</td>\n",
       "      <td>0.00</td>\n",
       "      <td>0.2</td>\n",
       "      <td>...</td>\n",
       "      <td>0.00</td>\n",
       "      <td>0.8</td>\n",
       "      <td>0.2</td>\n",
       "      <td>0.424658</td>\n",
       "      <td>0.778972</td>\n",
       "      <td>0.743787</td>\n",
       "      <td>0.0</td>\n",
       "      <td>1.0</td>\n",
       "      <td>0.0</td>\n",
       "      <td>0.0</td>\n",
       "    </tr>\n",
       "    <tr>\n",
       "      <th>12433</th>\n",
       "      <td>1.0</td>\n",
       "      <td>0.243410</td>\n",
       "      <td>0.6</td>\n",
       "      <td>0.6</td>\n",
       "      <td>0.6</td>\n",
       "      <td>0.50</td>\n",
       "      <td>0.4</td>\n",
       "      <td>1.0</td>\n",
       "      <td>0.75</td>\n",
       "      <td>0.8</td>\n",
       "      <td>...</td>\n",
       "      <td>1.00</td>\n",
       "      <td>0.8</td>\n",
       "      <td>0.6</td>\n",
       "      <td>0.534247</td>\n",
       "      <td>0.365657</td>\n",
       "      <td>0.000000</td>\n",
       "      <td>0.0</td>\n",
       "      <td>0.0</td>\n",
       "      <td>0.0</td>\n",
       "      <td>0.0</td>\n",
       "    </tr>\n",
       "    <tr>\n",
       "      <th>10273</th>\n",
       "      <td>1.0</td>\n",
       "      <td>0.241252</td>\n",
       "      <td>1.0</td>\n",
       "      <td>1.0</td>\n",
       "      <td>1.0</td>\n",
       "      <td>1.00</td>\n",
       "      <td>0.8</td>\n",
       "      <td>0.8</td>\n",
       "      <td>0.75</td>\n",
       "      <td>0.8</td>\n",
       "      <td>...</td>\n",
       "      <td>0.50</td>\n",
       "      <td>0.4</td>\n",
       "      <td>0.8</td>\n",
       "      <td>0.356164</td>\n",
       "      <td>0.365657</td>\n",
       "      <td>0.000000</td>\n",
       "      <td>0.0</td>\n",
       "      <td>0.0</td>\n",
       "      <td>0.0</td>\n",
       "      <td>1.0</td>\n",
       "    </tr>\n",
       "    <tr>\n",
       "      <th>12457</th>\n",
       "      <td>0.0</td>\n",
       "      <td>0.226607</td>\n",
       "      <td>0.6</td>\n",
       "      <td>0.6</td>\n",
       "      <td>0.6</td>\n",
       "      <td>0.75</td>\n",
       "      <td>0.4</td>\n",
       "      <td>0.6</td>\n",
       "      <td>0.25</td>\n",
       "      <td>0.4</td>\n",
       "      <td>...</td>\n",
       "      <td>0.75</td>\n",
       "      <td>1.0</td>\n",
       "      <td>0.4</td>\n",
       "      <td>0.424658</td>\n",
       "      <td>0.365657</td>\n",
       "      <td>0.000000</td>\n",
       "      <td>0.0</td>\n",
       "      <td>1.0</td>\n",
       "      <td>0.0</td>\n",
       "      <td>1.0</td>\n",
       "    </tr>\n",
       "    <tr>\n",
       "      <th>22903</th>\n",
       "      <td>0.0</td>\n",
       "      <td>0.535533</td>\n",
       "      <td>0.6</td>\n",
       "      <td>0.6</td>\n",
       "      <td>0.6</td>\n",
       "      <td>0.75</td>\n",
       "      <td>0.4</td>\n",
       "      <td>0.6</td>\n",
       "      <td>0.25</td>\n",
       "      <td>0.4</td>\n",
       "      <td>...</td>\n",
       "      <td>0.50</td>\n",
       "      <td>1.0</td>\n",
       "      <td>0.4</td>\n",
       "      <td>0.273973</td>\n",
       "      <td>0.365657</td>\n",
       "      <td>0.362962</td>\n",
       "      <td>0.0</td>\n",
       "      <td>0.0</td>\n",
       "      <td>0.0</td>\n",
       "      <td>0.0</td>\n",
       "    </tr>\n",
       "  </tbody>\n",
       "</table>\n",
       "<p>5 rows × 23 columns</p>\n",
       "</div>"
      ],
      "text/plain": [
       "          Frequent_Traveler    Points  Room  Check-in/Check-out  F&B  \\\n",
       "Guest_ID                                                               \n",
       "19847                   0.0  0.315554   0.6                 0.6  0.6   \n",
       "12433                   1.0  0.243410   0.6                 0.6  0.6   \n",
       "10273                   1.0  0.241252   1.0                 1.0  1.0   \n",
       "12457                   0.0  0.226607   0.6                 0.6  0.6   \n",
       "22903                   0.0  0.535533   0.6                 0.6  0.6   \n",
       "\n",
       "          Location  Wifi  Entertainment   Gym  Spa  ...  Reception  \\\n",
       "Guest_ID                                            ...              \n",
       "19847         0.75   0.6            0.2  0.00  0.2  ...       0.00   \n",
       "12433         0.50   0.4            1.0  0.75  0.8  ...       1.00   \n",
       "10273         1.00   0.8            0.8  0.75  0.8  ...       0.50   \n",
       "12457         0.75   0.4            0.6  0.25  0.4  ...       0.75   \n",
       "22903         0.75   0.4            0.6  0.25  0.4  ...       0.50   \n",
       "\n",
       "          Cleanliness  Online_Booking       age  Time_Room_Service  \\\n",
       "Guest_ID                                                             \n",
       "19847             0.8             0.2  0.424658           0.778972   \n",
       "12433             0.8             0.6  0.534247           0.365657   \n",
       "10273             0.4             0.8  0.356164           0.365657   \n",
       "12457             1.0             0.4  0.424658           0.365657   \n",
       "22903             1.0             0.4  0.273973           0.365657   \n",
       "\n",
       "          Deposit_Kept  Type_Personal Travel  Flight_Class_Eco  \\\n",
       "Guest_ID                                                         \n",
       "19847         0.743787                   0.0               1.0   \n",
       "12433         0.000000                   0.0               0.0   \n",
       "10273         0.000000                   0.0               0.0   \n",
       "12457         0.000000                   0.0               1.0   \n",
       "22903         0.362962                   0.0               0.0   \n",
       "\n",
       "          Flight_Class_Eco Plus  gender_1  \n",
       "Guest_ID                                   \n",
       "19847                       0.0       0.0  \n",
       "12433                       0.0       0.0  \n",
       "10273                       0.0       1.0  \n",
       "12457                       0.0       1.0  \n",
       "22903                       0.0       0.0  \n",
       "\n",
       "[5 rows x 23 columns]"
      ]
     },
     "execution_count": 28,
     "metadata": {},
     "output_type": "execute_result"
    }
   ],
   "source": [
    "df_test_scaled.head()"
   ]
  },
  {
   "cell_type": "markdown",
   "metadata": {},
   "source": [
    "<hr>\n",
    "<a class=\"anchor\" id=\"me\">\n",
    "\n",
    "## 4. Model Evaluation\n",
    "    \n",
    "</a>"
   ]
  },
  {
   "cell_type": "markdown",
   "metadata": {},
   "source": [
    "\n",
    "\n",
    "<a class=\"anchor\" id=\"all\">\n",
    "\n",
    "### 4.1. Entire model\n",
    "    \n",
    "</a>"
   ]
  },
  {
   "cell_type": "markdown",
   "metadata": {},
   "source": [
    "The next step was to split our train dataset into train and validation datasets and evaluate which model is better:"
   ]
  },
  {
   "cell_type": "code",
   "execution_count": 29,
   "metadata": {},
   "outputs": [],
   "source": [
    "train = df_train_scaled.copy()\n",
    "test = df_test_scaled.copy()\n",
    "data = train.drop('Repeater',axis=1)\n",
    "target = train['Repeater']"
   ]
  },
  {
   "cell_type": "markdown",
   "metadata": {},
   "source": [
    "Useful functions:"
   ]
  },
  {
   "cell_type": "code",
   "execution_count": 30,
   "metadata": {},
   "outputs": [],
   "source": [
    "classifiers_dict = {\n",
    "    'gaussian_nb':'Gaussian Naive Bayes',\n",
    "    'decision_tree':'Decision Tree Classifier',\n",
    "    'mlpcClassifier':'Multi-layer Perceptron classifier',\n",
    "    'log_regr':'Logistic Regression',\n",
    "    'GBC':'GradientBoostingClassifier',\n",
    "    'adaboost':'AdaBoost',\n",
    "    'knn':'k-Nearest Neighbors Algorithm',\n",
    "    'perceptron':'Perceptron',\n",
    "    'SGD':'Stochastic Gradient Descent',\n",
    "    'rforest':'Random Forest Classifier'\n",
    "}\n",
    "\n",
    "\n",
    "functions_list = list(classifiers_dict.keys())\n",
    "classifiers_list = list(classifiers_dict.values())\n",
    "\n",
    "def gaussian_nb():\n",
    "    model = GaussianNB()    \n",
    "    return model\n",
    "\n",
    "def decision_tree():    \n",
    "    model = DecisionTreeClassifier(max_depth=6,random_state=101)    \n",
    "    return model\n",
    "\n",
    "def GBC():\n",
    "    model = GradientBoostingClassifier(random_state = 101)\n",
    "    return model\n",
    "\n",
    "def adaboost():\n",
    "    model = AdaBoostClassifier(random_state = 101)    \n",
    "    return model\n",
    "\n",
    "def mlpcClassifier():\n",
    "    model = MLPClassifier(random_state = 101)  \n",
    "    return model\n",
    "\n",
    "def log_regr():\n",
    "    model = LogisticRegression(random_state = 101)\n",
    "    return model\n",
    "\n",
    "def knn():\n",
    "    model = KNeighborsClassifier()\n",
    "    return model\n",
    "\n",
    "def perceptron():\n",
    "    model = Perceptron(random_state = 101)\n",
    "    return model\n",
    "    \n",
    "def SGD():    \n",
    "    model = SGDClassifier(random_state = 101)\n",
    "    return model\n",
    "\n",
    "def rforest():\n",
    "    model = RandomForestClassifier(random_state = 101,max_depth=6)\n",
    "    return model\n",
    "\n",
    "# NOTE: The following code was adapted from Prof. Carina Albuquerque classes from NOVA IMS.\n",
    "\n",
    "def avg_score(method,X,y):\n",
    "    \n",
    "    for classifier in functions_list:\n",
    "        print('-------------------------------')\n",
    "        print('Calculating scores for',classifiers_dict[classifier])\n",
    "        print('-------------------------------')\n",
    "        print('')\n",
    "        score_train = []\n",
    "        score_val = []\n",
    "        \n",
    "        for train_index, val_index in method.split(X):\n",
    "            X_train, X_val = X.iloc[train_index], X.iloc[val_index]\n",
    "            y_train, y_val = y.iloc[train_index], y.iloc[val_index]  \n",
    "            \n",
    "            model = globals()[classifier]()\n",
    "            model.fit(X_train, y_train)\n",
    "            \n",
    "            y_pred_train = model.predict(X_train)\n",
    "            y_pred_val = model.predict(X_val)\n",
    "            \n",
    "            value_train = f1_score(y_pred_train,y_train)\n",
    "            print('Train:', value_train)  \n",
    "            \n",
    "            value_val = f1_score(y_pred_val, y_val)\n",
    "            print('Validation:', value_val)\n",
    "            \n",
    "            print('')\n",
    "            score_train.append(value_train)\n",
    "            score_val.append(value_val)\n",
    "\n",
    "        print('-------------------------------')\n",
    "        print('Average Train:' +  str(round(np.mean(score_train),4)) + '+/-' + str(round(np.std(score_train),4)))\n",
    "        print('Average Validation:' +  str(round(np.mean(score_val),4)) + '+/-' + str(round(np.std(score_val),4)))\n",
    "        print('')\n",
    "        print('')\n",
    "        print('')"
   ]
  },
  {
   "cell_type": "markdown",
   "metadata": {},
   "source": [
    "Creating an instance of Kfold with 10 splits. Apparently, the best classifiers are the MLPClassifier, the RandomForestClassifier, and the GradientBoostingClassifier."
   ]
  },
  {
   "cell_type": "code",
   "execution_count": 31,
   "metadata": {
    "scrolled": false
   },
   "outputs": [
    {
     "name": "stdout",
     "output_type": "stream",
     "text": [
      "-------------------------------\n",
      "Calculating scores for Gaussian Naive Bayes\n",
      "-------------------------------\n",
      "\n",
      "Train: 0.8319910514541388\n",
      "Validation: 0.8397104446742502\n",
      "\n",
      "Train: 0.8317925591882751\n",
      "Validation: 0.8331688055281342\n",
      "\n",
      "Train: 0.830789946140036\n",
      "Validation: 0.8439073514602214\n",
      "\n",
      "Train: 0.8322283402629509\n",
      "Validation: 0.8247011952191234\n",
      "\n",
      "Train: 0.8314556106354213\n",
      "Validation: 0.8236453201970443\n",
      "\n",
      "Train: 0.8339309726580009\n",
      "Validation: 0.8081218274111674\n",
      "\n",
      "Train: 0.8304552590266875\n",
      "Validation: 0.8271604938271604\n",
      "\n",
      "Train: 0.8299763699786205\n",
      "Validation: 0.8418932527693858\n",
      "\n",
      "Train: 0.8325659741718135\n",
      "Validation: 0.8256513026052104\n",
      "\n",
      "Train: 0.8299182622326728\n",
      "Validation: 0.8416666666666667\n",
      "\n",
      "-------------------------------\n",
      "Average Train:0.8315+/-0.0012\n",
      "Average Validation:0.831+/-0.0107\n",
      "\n",
      "\n",
      "\n",
      "-------------------------------\n",
      "Calculating scores for Decision Tree Classifier\n",
      "-------------------------------\n",
      "\n",
      "Train: 0.8914443422263109\n",
      "Validation: 0.8793284365162644\n",
      "\n",
      "Train: 0.8937847866419294\n",
      "Validation: 0.8904665314401622\n",
      "\n",
      "Train: 0.8917388792605431\n",
      "Validation: 0.8850102669404517\n",
      "\n",
      "Train: 0.8895144264602391\n",
      "Validation: 0.8916155419222903\n",
      "\n",
      "Train: 0.8961913608917789\n",
      "Validation: 0.8783505154639176\n",
      "\n",
      "Train: 0.8915829580879806\n",
      "Validation: 0.88\n",
      "\n",
      "Train: 0.8927167630057804\n",
      "Validation: 0.8773784355179703\n",
      "\n",
      "Train: 0.8931066604564507\n",
      "Validation: 0.8788501026694046\n",
      "\n",
      "Train: 0.892034233048058\n",
      "Validation: 0.8931068931068931\n",
      "\n",
      "Train: 0.8949930458970793\n",
      "Validation: 0.8805309734513276\n",
      "\n",
      "-------------------------------\n",
      "Average Train:0.8927+/-0.0018\n",
      "Average Validation:0.8835+/-0.0058\n",
      "\n",
      "\n",
      "\n",
      "-------------------------------\n",
      "Calculating scores for Multi-layer Perceptron classifier\n",
      "-------------------------------\n",
      "\n",
      "Train: 0.9506885828520658\n",
      "Validation: 0.935483870967742\n",
      "\n",
      "Train: 0.9510741198965246\n",
      "Validation: 0.944390243902439\n",
      "\n",
      "Train: 0.9537286612758311\n",
      "Validation: 0.9317023445463812\n",
      "\n",
      "Train: 0.9536111423115803\n",
      "Validation: 0.9425742574257426\n",
      "\n",
      "Train: 0.9503898745620973\n",
      "Validation: 0.916\n",
      "\n",
      "Train: 0.9514782216204017\n",
      "Validation: 0.932920536635707\n",
      "\n",
      "Train: 0.9548999660902001\n",
      "Validation: 0.9277721261444558\n",
      "\n",
      "Train: 0.9547250762109066\n",
      "Validation: 0.93\n",
      "\n",
      "Train: 0.9520924492314595\n",
      "Validation: 0.9412955465587044\n",
      "\n",
      "Train: 0.9538975501113586\n",
      "Validation: 0.9417989417989417\n",
      "\n",
      "-------------------------------\n",
      "Average Train:0.9527+/-0.0016\n",
      "Average Validation:0.9344+/-0.0083\n",
      "\n",
      "\n",
      "\n",
      "-------------------------------\n",
      "Calculating scores for Logistic Regression\n",
      "-------------------------------\n",
      "\n",
      "Train: 0.8420111731843575\n",
      "Validation: 0.8306451612903226\n",
      "\n",
      "Train: 0.8393037619314991\n",
      "Validation: 0.8493150684931507\n",
      "\n",
      "Train: 0.8414456752825332\n",
      "Validation: 0.840080971659919\n",
      "\n",
      "Train: 0.8405699539997756\n",
      "Validation: 0.8526211671612265\n",
      "\n",
      "Train: 0.8402964959568733\n",
      "Validation: 0.8413793103448275\n",
      "\n",
      "Train: 0.8410485220301172\n",
      "Validation: 0.8248472505091649\n",
      "\n",
      "Train: 0.840914183284786\n",
      "Validation: 0.8363636363636363\n",
      "\n",
      "Train: 0.8388253754763506\n",
      "Validation: 0.8619662363455809\n",
      "\n",
      "Train: 0.8422695351688774\n",
      "Validation: 0.8282208588957055\n",
      "\n",
      "Train: 0.8424100679362958\n",
      "Validation: 0.8319327731092436\n",
      "\n",
      "-------------------------------\n",
      "Average Train:0.8409+/-0.0011\n",
      "Average Validation:0.8397+/-0.0112\n",
      "\n",
      "\n",
      "\n",
      "-------------------------------\n",
      "Calculating scores for GradientBoostingClassifier\n",
      "-------------------------------\n",
      "\n",
      "Train: 0.9330212860804635\n",
      "Validation: 0.9386934673366835\n",
      "\n",
      "Train: 0.9321084472328031\n",
      "Validation: 0.9292730844793712\n",
      "\n",
      "Train: 0.9322905027932961\n",
      "Validation: 0.9193548387096774\n",
      "\n",
      "Train: 0.9315252717695842\n",
      "Validation: 0.9291338582677164\n",
      "\n",
      "Train: 0.9294038547736441\n",
      "Validation: 0.9174129353233832\n",
      "\n",
      "Train: 0.932546749777382\n",
      "Validation: 0.9260385005065855\n",
      "\n",
      "Train: 0.932946558072074\n",
      "Validation: 0.9133537206931703\n",
      "\n",
      "Train: 0.9316964285714286\n",
      "Validation: 0.9314796425024826\n",
      "\n",
      "Train: 0.9330367074527252\n",
      "Validation: 0.9198396793587175\n",
      "\n",
      "Train: 0.9327384272169548\n",
      "Validation: 0.9326315789473684\n",
      "\n",
      "-------------------------------\n",
      "Average Train:0.9321+/-0.001\n",
      "Average Validation:0.9257+/-0.0076\n",
      "\n",
      "\n",
      "\n",
      "-------------------------------\n",
      "Calculating scores for AdaBoost\n",
      "-------------------------------\n",
      "\n",
      "Train: 0.8982708286548393\n",
      "Validation: 0.8986693961105424\n",
      "\n",
      "Train: 0.8970671498131582\n",
      "Validation: 0.9119683481701286\n",
      "\n",
      "Train: 0.901726277784046\n",
      "Validation: 0.8974619289340102\n",
      "\n",
      "Train: 0.901752402487281\n",
      "Validation: 0.9092702169625246\n",
      "\n",
      "Train: 0.8998194945848375\n",
      "Validation: 0.887112887112887\n",
      "\n",
      "Train: 0.9019872010778041\n",
      "Validation: 0.8856848609680741\n",
      "\n",
      "Train: 0.903451387322355\n",
      "Validation: 0.8872950819672131\n",
      "\n",
      "Train: 0.8981523208652545\n",
      "Validation: 0.9178356713426853\n",
      "\n",
      "Train: 0.9013766644098399\n",
      "Validation: 0.8897876643073811\n",
      "\n",
      "Train: 0.9021104625056129\n",
      "Validation: 0.8831725616291533\n",
      "\n",
      "-------------------------------\n",
      "Average Train:0.9006+/-0.002\n",
      "Average Validation:0.8968+/-0.0117\n",
      "\n",
      "\n",
      "\n",
      "-------------------------------\n",
      "Calculating scores for k-Nearest Neighbors Algorithm\n",
      "-------------------------------\n",
      "\n",
      "Train: 0.9321493624772312\n",
      "Validation: 0.9100418410041842\n",
      "\n",
      "Train: 0.9313467048710603\n",
      "Validation: 0.9067201604814443\n",
      "\n",
      "Train: 0.9320233062949846\n",
      "Validation: 0.8947906026557713\n",
      "\n",
      "Train: 0.9328605741736247\n",
      "Validation: 0.9042769857433809\n",
      "\n",
      "Train: 0.9309633027522937\n",
      "Validation: 0.9003021148036254\n",
      "\n",
      "Train: 0.9330301307561115\n",
      "Validation: 0.9045120671563484\n",
      "\n",
      "Train: 0.9326495726495727\n",
      "Validation: 0.8951194184839044\n",
      "\n",
      "Train: 0.9312\n",
      "Validation: 0.8968335035750766\n",
      "\n",
      "Train: 0.933227344992051\n",
      "Validation: 0.892116182572614\n",
      "\n",
      "Train: 0.9309363977699397\n",
      "Validation: 0.9167567567567568\n",
      "\n",
      "-------------------------------\n",
      "Average Train:0.932+/-0.0008\n",
      "Average Validation:0.9021+/-0.0074\n",
      "\n",
      "\n",
      "\n",
      "-------------------------------\n",
      "Calculating scores for Perceptron\n",
      "-------------------------------\n",
      "\n",
      "Train: 0.816691804927099\n",
      "Validation: 0.7974568574023615\n",
      "\n",
      "Train: 0.8310727496917386\n",
      "Validation: 0.8501469147894222\n",
      "\n",
      "Train: 0.8357493188010898\n",
      "Validation: 0.8267716535433073\n",
      "\n",
      "Train: 0.8324426281043696\n",
      "Validation: 0.8230912476722533\n",
      "\n",
      "Train: 0.8038099950519545\n",
      "Validation: 0.7934426229508197\n",
      "\n",
      "Train: 0.8184451396130229\n",
      "Validation: 0.813304721030043\n",
      "\n",
      "Train: 0.8357911076616032\n",
      "Validation: 0.8358509566968781\n",
      "\n",
      "Train: 0.777596223674655\n",
      "Validation: 0.8\n",
      "\n",
      "Train: 0.8194221508828251\n",
      "Validation: 0.8147465437788017\n",
      "\n",
      "Train: 0.7760873456237695\n",
      "Validation: 0.7648026315789472\n",
      "\n",
      "-------------------------------\n",
      "Average Train:0.8147+/-0.0212\n",
      "Average Validation:0.812+/-0.023\n",
      "\n",
      "\n",
      "\n",
      "-------------------------------\n",
      "Calculating scores for Stochastic Gradient Descent\n",
      "-------------------------------\n",
      "\n",
      "Train: 0.8444444444444444\n",
      "Validation: 0.8376421923474665\n",
      "\n",
      "Train: 0.8398027021230967\n",
      "Validation: 0.8439849624060151\n",
      "\n",
      "Train: 0.8420334356874787\n",
      "Validation: 0.839835728952772\n",
      "\n",
      "Train: 0.8423423423423424\n",
      "Validation: 0.8534396809571286\n",
      "\n",
      "Train: 0.8433872069201\n",
      "Validation: 0.84\n",
      "\n",
      "Train: 0.8442473851750796\n",
      "Validation: 0.8280123583934089\n",
      "\n",
      "Train: 0.8396893473977048\n",
      "Validation: 0.837696335078534\n",
      "\n",
      "Train: 0.8446517682794532\n",
      "Validation: 0.861003861003861\n",
      "\n",
      "Train: 0.8434841021047919\n",
      "Validation: 0.8402848423194303\n",
      "\n",
      "Train: 0.822974607013301\n",
      "Validation: 0.8240635641316686\n",
      "\n",
      "-------------------------------\n",
      "Average Train:0.8407+/-0.0061\n",
      "Average Validation:0.8406+/-0.0102\n",
      "\n",
      "\n",
      "\n",
      "-------------------------------\n",
      "Calculating scores for Random Forest Classifier\n",
      "-------------------------------\n",
      "\n",
      "Train: 0.9129148866250409\n",
      "Validation: 0.918\n",
      "\n",
      "Train: 0.911560119244783\n",
      "Validation: 0.9078694817658349\n",
      "\n",
      "Train: 0.9158796397979354\n",
      "Validation: 0.903353057199211\n",
      "\n",
      "Train: 0.9150901891772988\n",
      "Validation: 0.916988416988417\n",
      "\n",
      "Train: 0.9151608638166593\n",
      "Validation: 0.8993157380254154\n",
      "\n",
      "Train: 0.9161814786334176\n",
      "Validation: 0.8983218163869695\n",
      "\n",
      "Train: 0.9145054945054946\n",
      "Validation: 0.905811623246493\n",
      "\n",
      "Train: 0.9137646929583654\n",
      "Validation: 0.9221789883268483\n",
      "\n",
      "Train: 0.9169778168240721\n",
      "Validation: 0.9025844930417495\n",
      "\n",
      "Train: 0.9127868852459017\n",
      "Validation: 0.9157127991675339\n",
      "\n",
      "-------------------------------\n",
      "Average Train:0.9145+/-0.0016\n",
      "Average Validation:0.909+/-0.0081\n",
      "\n",
      "\n",
      "\n"
     ]
    }
   ],
   "source": [
    "kf = KFold(n_splits=10)\n",
    "avg_score(kf, data, target)"
   ]
  },
  {
   "cell_type": "markdown",
   "metadata": {},
   "source": [
    "<hr>\n",
    "<a class=\"anchor\" id=\"fs\">\n",
    "\n",
    "### 4.2. Feature Selection\n",
    "    \n",
    "</a>"
   ]
  },
  {
   "cell_type": "markdown",
   "metadata": {},
   "source": [
    "In this section, Recursive Feature Elimination was applied. The following code will go through all the steps necessary."
   ]
  },
  {
   "cell_type": "code",
   "execution_count": 32,
   "metadata": {},
   "outputs": [],
   "source": [
    "train_DF = train.copy()\n",
    "X_test = test.copy()\n",
    "train_DF = train_DF.drop('Repeater',axis=1)\n",
    "target = train['Repeater']\n",
    "\n",
    "X_train, X_val, y_train, y_val = train_test_split(train_DF,\n",
    "                                                  target,\n",
    "                                                  test_size = 0.3,\n",
    "                                                  random_state = 101,\n",
    "                                                  stratify = target,\n",
    "                                                  shuffle = True)"
   ]
  },
  {
   "cell_type": "markdown",
   "metadata": {},
   "source": [
    "Applying Recursive feature elimination (RFE)"
   ]
  },
  {
   "cell_type": "code",
   "execution_count": 33,
   "metadata": {},
   "outputs": [
    {
     "name": "stdout",
     "output_type": "stream",
     "text": [
      "Optimum number of features: 18\n",
      "Score with 18 features: 0.929286\n"
     ]
    }
   ],
   "source": [
    "# NOTE: The following code was adapted from Professor Carina Albuquerque classes from NOVA IMS.\n",
    "\n",
    "#no of features\n",
    "nof_list=np.arange(1,24)            \n",
    "high_score=0\n",
    "\n",
    "#Variable to store the optimum features\n",
    "nof=0           \n",
    "score_list =[]\n",
    "\n",
    "    \n",
    "for n in range(len(nof_list)):\n",
    "\n",
    "    model = GradientBoostingClassifier(random_state = 101)\n",
    "    rfe = RFE(model,nof_list[n])\n",
    "\n",
    "    X_train_rfe = rfe.fit_transform(X_train,y_train)\n",
    "    X_val_rfe = rfe.transform(X_val)\n",
    "    model.fit(X_train_rfe,y_train)\n",
    "\n",
    "    y_pred_val = model.predict(X_val_rfe)    \n",
    "\n",
    "    score = f1_score(y_pred_val,y_val)\n",
    "    score_list.append(score)\n",
    "\n",
    "    if(score>high_score):\n",
    "        high_score = score\n",
    "        nof = nof_list[n]\n",
    "print(\"Optimum number of features: %d\" %nof)\n",
    "print(\"Score with %d features: %f\" % (nof, high_score))"
   ]
  },
  {
   "cell_type": "markdown",
   "metadata": {},
   "source": [
    "Using an RFE instance to select those features:"
   ]
  },
  {
   "cell_type": "code",
   "execution_count": 34,
   "metadata": {},
   "outputs": [
    {
     "data": {
      "text/plain": [
       "Frequent_Traveler       True\n",
       "Points                  True\n",
       "Room                    True\n",
       "Check-in/Check-out      True\n",
       "Location                True\n",
       "Entertainment           True\n",
       "Gym                     True\n",
       "Spa                     True\n",
       "Staff                   True\n",
       "Pool                    True\n",
       "Baggage_Handling        True\n",
       "Reception               True\n",
       "Cleanliness             True\n",
       "Online_Booking          True\n",
       "Deposit_Kept            True\n",
       "Type_Personal Travel    True\n",
       "Flight_Class_Eco        True\n",
       "gender_1                True\n",
       "dtype: bool"
      ]
     },
     "execution_count": 34,
     "metadata": {},
     "output_type": "execute_result"
    }
   ],
   "source": [
    "model = GradientBoostingClassifier(random_state = 101)\n",
    "rfe = RFE(model,nof)\n",
    "X_train_rfe = rfe.fit_transform(X_train,y_train)\n",
    "X_val_rfe = rfe.transform(X_val)\n",
    "model.fit(X_train_rfe,y_train)\n",
    "selected_features = pd.Series(rfe.support_, index = X_train.columns)\n",
    "selected_features = selected_features[selected_features != False]\n",
    "selected_features"
   ]
  },
  {
   "cell_type": "code",
   "execution_count": 35,
   "metadata": {},
   "outputs": [],
   "source": [
    "X_fs_train = X_train[list(selected_features.index)]\n",
    "X_fs_val = X_val[list(selected_features.index)]\n",
    "X_fs_test = X_test[list(selected_features.index)]"
   ]
  },
  {
   "cell_type": "code",
   "execution_count": 36,
   "metadata": {
    "scrolled": false
   },
   "outputs": [
    {
     "name": "stdout",
     "output_type": "stream",
     "text": [
      "-------------------------------\n",
      "Calculating scores for Gaussian Naive Bayes\n",
      "-------------------------------\n",
      "\n",
      "Train: 0.8281531531531532\n",
      "Validation: 0.8274428274428274\n",
      "\n",
      "Train: 0.8277191788590225\n",
      "Validation: 0.8325074331020813\n",
      "\n",
      "Train: 0.8264014466546111\n",
      "Validation: 0.8362156663275687\n",
      "\n",
      "Train: 0.8264069754274713\n",
      "Validation: 0.834\n",
      "\n",
      "Train: 0.8276643990929706\n",
      "Validation: 0.8235294117647058\n",
      "\n",
      "Train: 0.8298905068292133\n",
      "Validation: 0.8065173116089612\n",
      "\n",
      "Train: 0.8280067758328628\n",
      "Validation: 0.8194014447884417\n",
      "\n",
      "Train: 0.8263378210204774\n",
      "Validation: 0.8409321175278622\n",
      "\n",
      "Train: 0.8286456568394894\n",
      "Validation: 0.8166160081053698\n",
      "\n",
      "Train: 0.8269642655844888\n",
      "Validation: 0.8289611752360966\n",
      "\n",
      "-------------------------------\n",
      "Average Train:0.8276+/-0.0011\n",
      "Average Validation:0.8266+/-0.0098\n",
      "\n",
      "\n",
      "\n",
      "-------------------------------\n",
      "Calculating scores for Decision Tree Classifier\n",
      "-------------------------------\n",
      "\n",
      "Train: 0.8907022181358465\n",
      "Validation: 0.8865323435843054\n",
      "\n",
      "Train: 0.8895150874721146\n",
      "Validation: 0.8747433264887065\n",
      "\n",
      "Train: 0.8899817017383348\n",
      "Validation: 0.8843813387423934\n",
      "\n",
      "Train: 0.8874203445834317\n",
      "Validation: 0.8851774530271399\n",
      "\n",
      "Train: 0.8956612771897174\n",
      "Validation: 0.8766839378238342\n",
      "\n",
      "Train: 0.8906196311991754\n",
      "Validation: 0.8739837398373983\n",
      "\n",
      "Train: 0.8912393653713497\n",
      "Validation: 0.8809272918861961\n",
      "\n",
      "Train: 0.8891263057929725\n",
      "Validation: 0.8712041884816754\n",
      "\n",
      "Train: 0.8922366395425555\n",
      "Validation: 0.8937875751503006\n",
      "\n",
      "Train: 0.8918317121762569\n",
      "Validation: 0.8766816143497758\n",
      "\n",
      "-------------------------------\n",
      "Average Train:0.8908+/-0.0021\n",
      "Average Validation:0.8804+/-0.0066\n",
      "\n",
      "\n",
      "\n",
      "-------------------------------\n",
      "Calculating scores for Multi-layer Perceptron classifier\n",
      "-------------------------------\n",
      "\n",
      "Train: 0.9472160356347439\n",
      "Validation: 0.9295774647887323\n",
      "\n",
      "Train: 0.9479587258860477\n",
      "Validation: 0.9419862340216322\n",
      "\n",
      "Train: 0.9475442699632476\n",
      "Validation: 0.9313131313131313\n",
      "\n",
      "Train: 0.9479458188738386\n",
      "Validation: 0.9387351778656126\n",
      "\n",
      "Train: 0.9462927216986489\n",
      "Validation: 0.9209209209209208\n",
      "\n",
      "Train: 0.9478319783197832\n",
      "Validation: 0.9278350515463918\n",
      "\n",
      "Train: 0.9495883613397993\n",
      "Validation: 0.9218106995884775\n",
      "\n",
      "Train: 0.9493441881501583\n",
      "Validation: 0.916\n",
      "\n",
      "Train: 0.9461144511244711\n",
      "Validation: 0.9319999999999999\n",
      "\n",
      "Train: 0.9473801560758082\n",
      "Validation: 0.9394261424017003\n",
      "\n",
      "-------------------------------\n",
      "Average Train:0.9477+/-0.0011\n",
      "Average Validation:0.93+/-0.0082\n",
      "\n",
      "\n",
      "\n",
      "-------------------------------\n",
      "Calculating scores for Logistic Regression\n",
      "-------------------------------\n",
      "\n",
      "Train: 0.8394842152067585\n",
      "Validation: 0.8333333333333334\n",
      "\n",
      "Train: 0.8380739081746921\n",
      "Validation: 0.8484848484848486\n",
      "\n",
      "Train: 0.8379975471067008\n",
      "Validation: 0.8319838056680162\n",
      "\n",
      "Train: 0.8388466696468485\n",
      "Validation: 0.845320197044335\n",
      "\n",
      "Train: 0.8386157464441707\n",
      "Validation: 0.8374384236453202\n",
      "\n",
      "Train: 0.8405215646940822\n",
      "Validation: 0.8124373119358073\n",
      "\n",
      "Train: 0.8388535742165719\n",
      "Validation: 0.8375378405650856\n",
      "\n",
      "Train: 0.8373237860818975\n",
      "Validation: 0.8560157790927021\n",
      "\n",
      "Train: 0.8392479697407942\n",
      "Validation: 0.8362156663275686\n",
      "\n",
      "Train: 0.8392539964476021\n",
      "Validation: 0.8340336134453782\n",
      "\n",
      "-------------------------------\n",
      "Average Train:0.8388+/-0.0008\n",
      "Average Validation:0.8373+/-0.011\n",
      "\n",
      "\n",
      "\n",
      "-------------------------------\n",
      "Calculating scores for GradientBoostingClassifier\n",
      "-------------------------------\n",
      "\n",
      "Train: 0.9334821428571429\n",
      "Validation: 0.9364278506559032\n",
      "\n",
      "Train: 0.9319254100202202\n",
      "Validation: 0.9342492639842983\n",
      "\n",
      "Train: 0.9303939122649956\n",
      "Validation: 0.9232323232323232\n",
      "\n",
      "Train: 0.9319583006389418\n",
      "Validation: 0.9289940828402367\n",
      "\n",
      "Train: 0.9301647797332139\n",
      "Validation: 0.9186507936507937\n",
      "\n",
      "Train: 0.9308232148824773\n",
      "Validation: 0.9232323232323232\n",
      "\n",
      "Train: 0.9341825902335457\n",
      "Validation: 0.9135300101729399\n",
      "\n",
      "Train: 0.9300033598387277\n",
      "Validation: 0.9313432835820895\n",
      "\n",
      "Train: 0.9340757238307349\n",
      "Validation: 0.9266331658291458\n",
      "\n",
      "Train: 0.9315373483246131\n",
      "Validation: 0.9251844046364596\n",
      "\n",
      "-------------------------------\n",
      "Average Train:0.9319+/-0.0015\n",
      "Average Validation:0.9261+/-0.0066\n",
      "\n",
      "\n",
      "\n",
      "-------------------------------\n",
      "Calculating scores for AdaBoost\n",
      "-------------------------------\n",
      "\n",
      "Train: 0.8998424487958586\n",
      "Validation: 0.9057377049180328\n",
      "\n",
      "Train: 0.9001695873374789\n",
      "Validation: 0.9074626865671641\n",
      "\n",
      "Train: 0.9004846162515496\n",
      "Validation: 0.9040816326530613\n",
      "\n",
      "Train: 0.9005424954792043\n",
      "Validation: 0.9137760158572844\n",
      "\n",
      "Train: 0.8985998193315267\n",
      "Validation: 0.881827209533267\n",
      "\n",
      "Train: 0.9011458099303529\n",
      "Validation: 0.8882051282051282\n",
      "\n",
      "Train: 0.901487826871055\n",
      "Validation: 0.8934426229508197\n",
      "\n",
      "Train: 0.8962327994586059\n",
      "Validation: 0.9149149149149151\n",
      "\n",
      "Train: 0.9018681071348188\n",
      "Validation: 0.892929292929293\n",
      "\n",
      "Train: 0.9006057886470721\n",
      "Validation: 0.8893662728249194\n",
      "\n",
      "-------------------------------\n",
      "Average Train:0.9001+/-0.0015\n",
      "Average Validation:0.8992+/-0.0109\n",
      "\n",
      "\n",
      "\n",
      "-------------------------------\n",
      "Calculating scores for k-Nearest Neighbors Algorithm\n",
      "-------------------------------\n",
      "\n",
      "Train: 0.9293459650724804\n",
      "Validation: 0.9102428722280886\n",
      "\n",
      "Train: 0.9316013334866077\n",
      "Validation: 0.9012096774193549\n",
      "\n",
      "Train: 0.9307657038055939\n",
      "Validation: 0.8996897621509824\n",
      "\n",
      "Train: 0.9281945400321173\n",
      "Validation: 0.9063136456211813\n",
      "\n",
      "Train: 0.9277233429394813\n",
      "Validation: 0.8997995991983968\n",
      "\n",
      "Train: 0.9285632904181382\n",
      "Validation: 0.8982161594963275\n",
      "\n",
      "Train: 0.929471032745592\n",
      "Validation: 0.8923395445134574\n",
      "\n",
      "Train: 0.9303550973654068\n",
      "Validation: 0.8927835051546391\n",
      "\n",
      "Train: 0.9299406663623917\n",
      "Validation: 0.8951194184839044\n",
      "\n",
      "Train: 0.9291248860528715\n",
      "Validation: 0.9069264069264069\n",
      "\n",
      "-------------------------------\n",
      "Average Train:0.9295+/-0.0011\n",
      "Average Validation:0.9003+/-0.0058\n",
      "\n",
      "\n",
      "\n",
      "-------------------------------\n",
      "Calculating scores for Perceptron\n",
      "-------------------------------\n",
      "\n",
      "Train: 0.8190991365858732\n",
      "Validation: 0.8011204481792715\n",
      "\n",
      "Train: 0.4675680301215129\n",
      "Validation: 0.3993808049535604\n",
      "\n",
      "Train: 0.8243035753454704\n",
      "Validation: 0.8205128205128206\n",
      "\n",
      "Train: 0.8295847750865052\n",
      "Validation: 0.8325449385052034\n",
      "\n",
      "Train: 0.8296347665279703\n",
      "Validation: 0.8228105906313646\n",
      "\n",
      "Train: 0.8073066613719846\n",
      "Validation: 0.7877145438121048\n",
      "\n",
      "Train: 0.8285944746924784\n",
      "Validation: 0.8373382624768947\n",
      "\n",
      "Train: 0.7994505494505495\n",
      "Validation: 0.802660753880266\n",
      "\n",
      "Train: 0.7871485943775101\n",
      "Validation: 0.7773972602739725\n",
      "\n",
      "Train: 0.8126858275520317\n",
      "Validation: 0.8159851301115242\n",
      "\n",
      "-------------------------------\n",
      "Average Train:0.7805+/-0.1052\n",
      "Average Validation:0.7697+/-0.1248\n",
      "\n",
      "\n",
      "\n",
      "-------------------------------\n",
      "Calculating scores for Stochastic Gradient Descent\n",
      "-------------------------------\n",
      "\n",
      "Train: 0.8419504468831316\n",
      "Validation: 0.8373056994818653\n",
      "\n",
      "Train: 0.8426395939086294\n",
      "Validation: 0.8478900883218843\n",
      "\n",
      "Train: 0.8429143661361913\n",
      "Validation: 0.8295566502463053\n",
      "\n",
      "Train: 0.8317611692754224\n",
      "Validation: 0.8314814814814815\n",
      "\n",
      "Train: 0.8408561605855606\n",
      "Validation: 0.8443579766536964\n",
      "\n",
      "Train: 0.8407716014153636\n",
      "Validation: 0.8168724279835391\n",
      "\n",
      "Train: 0.8415300546448088\n",
      "Validation: 0.8440545808966861\n",
      "\n",
      "Train: 0.8407827440515898\n",
      "Validation: 0.8562933597621407\n",
      "\n",
      "Train: 0.8423187786911497\n",
      "Validation: 0.8326848249027237\n",
      "\n",
      "Train: 0.8362952122099102\n",
      "Validation: 0.830860534124629\n",
      "\n",
      "-------------------------------\n",
      "Average Train:0.8402+/-0.0033\n",
      "Average Validation:0.8371+/-0.0107\n",
      "\n",
      "\n",
      "\n",
      "-------------------------------\n",
      "Calculating scores for Random Forest Classifier\n",
      "-------------------------------\n",
      "\n",
      "Train: 0.9120421144987936\n",
      "Validation: 0.916\n",
      "\n",
      "Train: 0.9097719510851603\n",
      "Validation: 0.9059500959692898\n",
      "\n",
      "Train: 0.9138232720909886\n",
      "Validation: 0.8978388998035364\n",
      "\n",
      "Train: 0.9117938553022794\n",
      "Validation: 0.910318225650916\n",
      "\n",
      "Train: 0.914254265272427\n",
      "Validation: 0.8993157380254154\n",
      "\n",
      "Train: 0.912142152023692\n",
      "Validation: 0.8949950932286554\n",
      "\n",
      "Train: 0.909889144989573\n",
      "Validation: 0.9069069069069069\n",
      "\n",
      "Train: 0.9107456140350877\n",
      "Validation: 0.911219512195122\n",
      "\n",
      "Train: 0.9141231812711956\n",
      "Validation: 0.9060336300692383\n",
      "\n",
      "Train: 0.9129011132940406\n",
      "Validation: 0.9109730848861283\n",
      "\n",
      "-------------------------------\n",
      "Average Train:0.9121+/-0.0016\n",
      "Average Validation:0.906+/-0.0064\n",
      "\n",
      "\n",
      "\n"
     ]
    }
   ],
   "source": [
    "data = train_DF[list(selected_features.index)]\n",
    "kf = KFold(n_splits=10)\n",
    "avg_score(kf, data, target)"
   ]
  },
  {
   "cell_type": "markdown",
   "metadata": {},
   "source": [
    "__Since results do not change drastically, we chose to keep all features for the hypertunning phase (see next chapter).__"
   ]
  },
  {
   "cell_type": "markdown",
   "metadata": {},
   "source": [
    "<hr>\n",
    "<a class=\"anchor\" id=\"model\">\n",
    "\n",
    "## 5. Modelling\n",
    "    \n",
    "</a>"
   ]
  },
  {
   "cell_type": "markdown",
   "metadata": {},
   "source": [
    "In this section, model hyper tuning was perfomed on the classifiers that obtained the best score previously (MLPC Classifier, RandomForestClassifier and GradientBoostingClassifier) and for all the features included. Since those classifiers have so much parameters to tune, we'll use the Grid Search tool to find the best parameters for this model (note that some code in this section was adaptaded from professor Carina Albuquerque classes)."
   ]
  },
  {
   "cell_type": "code",
   "execution_count": 37,
   "metadata": {},
   "outputs": [],
   "source": [
    "treino = train.copy()\n",
    "X_test = test.copy()\n",
    "dados = treino.drop('Repeater',axis=1)\n",
    "alvo = treino['Repeater']"
   ]
  },
  {
   "cell_type": "markdown",
   "metadata": {},
   "source": [
    "Splitting once more our dataset in order to get a train dataframe, a test dataframe and validation dataframe."
   ]
  },
  {
   "cell_type": "code",
   "execution_count": 38,
   "metadata": {},
   "outputs": [],
   "source": [
    "X_train, X_val, y_train, y_val = train_test_split(dados,\n",
    "                                                  alvo,\n",
    "                                                  test_size = 0.3,\n",
    "                                                  random_state = 101,\n",
    "                                                  stratify = alvo,\n",
    "                                                  shuffle = True)"
   ]
  },
  {
   "cell_type": "markdown",
   "metadata": {},
   "source": [
    "Initializing Grid Search with train dataset:\n",
    "\n",
    "__Note: other iterations with other parameters were perfomed using GridSearch that took a few hours (for example, parameters such as hidden layers, activation function, learning rate, and solver were tested). In the end, only the final ones were left in this cell in order to get things simple and faster when running all the notebook.__"
   ]
  },
  {
   "cell_type": "code",
   "execution_count": 39,
   "metadata": {
    "scrolled": false
   },
   "outputs": [
    {
     "name": "stdout",
     "output_type": "stream",
     "text": [
      "------------------------------------------------------------------------------------------------------------------------\n",
      "GridSearchCV for MLPC Classifier took 0.8908034205436707 minutes to run.\n",
      "\n",
      "Best parameters found:\n",
      " {'activation': 'relu', 'hidden_layer_sizes': (45, 45), 'learning_rate': 'constant', 'learning_rate_init': 0.001, 'max_iter': 500, 'solver': 'adam'}\n",
      "------------------------------------------------------------------------------------------------------------------------\n",
      "\n",
      "All results:\n",
      "0.929 (+/-0.008) for {'activation': 'relu', 'hidden_layer_sizes': (45, 45), 'learning_rate': 'constant', 'learning_rate_init': 0.001, 'max_iter': 500, 'solver': 'adam'}\n"
     ]
    }
   ],
   "source": [
    "start = time.time()\n",
    "\n",
    "\n",
    "mlpc = MLPClassifier(random_state = 101)\n",
    "\n",
    "parameter_space = {'hidden_layer_sizes': [#(40,40),\n",
    "                                        #(45,45),\n",
    "                                        #(100,100),\n",
    "                                        #(50,50),\n",
    "                                        #(60,60),\n",
    "                                        #(100,100,100)  \n",
    "                                          (45,45), # chosen because it had the best trade-off between train/validation (see next cell)\n",
    "                                          #(50,50,50)\n",
    "                                         ],\n",
    "                   'activation': ['relu'],   #,'tanh']\n",
    "                   'solver': ['adam'],   #,'sgd']\n",
    "                   'learning_rate_init': [0.001], # 0.1,0.01,0.0001\n",
    "                   'learning_rate': ['constant'], # adaptive\n",
    "                   'max_iter': [500]\n",
    "                  }\n",
    "\n",
    "clf = GridSearchCV(estimator = mlpc,\n",
    "                   param_grid = parameter_space,\n",
    "                   scoring = 'f1',\n",
    "                   n_jobs=-1,\n",
    "                   cv=10\n",
    "                   )\n",
    "\n",
    "clf.fit(X_train,y_train)\n",
    "\n",
    "end = time.time()\n",
    "\n",
    "print('------------------------------------------------------------------------------------------------------------------------')\n",
    "print('GridSearchCV for MLPC Classifier took',(end-start)/60,'minutes to run.')\n",
    "print('')\n",
    "print('Best parameters found:\\n', clf.best_params_)\n",
    "print('------------------------------------------------------------------------------------------------------------------------')\n",
    "print('')\n",
    "print('All results:')\n",
    "means = clf.cv_results_['mean_test_score']\n",
    "stds = clf.cv_results_['std_test_score']\n",
    "for mean, std, params in zip(means, stds, clf.cv_results_['params']):\n",
    "    print(\"%0.3f (+/-%0.03f) for %r\" % (mean, std , params))"
   ]
  },
  {
   "cell_type": "markdown",
   "metadata": {},
   "source": [
    "Best parameters found from grid search:"
   ]
  },
  {
   "cell_type": "code",
   "execution_count": 40,
   "metadata": {
    "scrolled": false
   },
   "outputs": [
    {
     "name": "stdout",
     "output_type": "stream",
     "text": [
      "------------------------------------------------------------------------------------------------------------------------\n",
      "Train: 0.971272\n",
      "Validation: 0.91685\n",
      "------------------------------------------------------------------------------------------------------------------------\n"
     ]
    }
   ],
   "source": [
    "final_model = clf.best_estimator_.fit(X_train, y_train)\n",
    "\n",
    "value_train = final_model.score(X_train, y_train)\n",
    "\n",
    "value_val = final_model.score(X_val, y_val)\n",
    "\n",
    "y_test_pred = final_model.predict(X_test) # values to submit on Kaggle\n",
    "\n",
    "print('------------------------------------------------------------------------------------------------------------------------')\n",
    "print('Train:', str(round(value_train,6)))\n",
    "print('Validation:', str(round(value_val,6)))\n",
    "print('------------------------------------------------------------------------------------------------------------------------')"
   ]
  },
  {
   "cell_type": "markdown",
   "metadata": {},
   "source": [
    "Choosing the best model from the scores above, apply it to test dataset and save the output to `20201738__.csv`"
   ]
  },
  {
   "cell_type": "code",
   "execution_count": 41,
   "metadata": {},
   "outputs": [],
   "source": [
    "sample_sub['Repeater'] = y_test_pred\n",
    "\n",
    "sample_sub['Repeater'] = sample_sub['Repeater'].astype(int) #converting to int to avoid errors when submiting on Kaggle\n",
    "\n",
    "sample_sub.to_csv(pwd + '\\data\\\\20201738__.csv',index = False)"
   ]
  },
  {
   "cell_type": "code",
   "execution_count": null,
   "metadata": {},
   "outputs": [],
   "source": []
  }
 ],
 "metadata": {
  "kernelspec": {
   "display_name": "Python 3",
   "language": "python",
   "name": "python3"
  },
  "language_info": {
   "codemirror_mode": {
    "name": "ipython",
    "version": 3
   },
   "file_extension": ".py",
   "mimetype": "text/x-python",
   "name": "python",
   "nbconvert_exporter": "python",
   "pygments_lexer": "ipython3",
   "version": "3.8.5"
  }
 },
 "nbformat": 4,
 "nbformat_minor": 5
}
